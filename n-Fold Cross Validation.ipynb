{
 "cells": [
  {
   "cell_type": "code",
   "execution_count": 1,
   "metadata": {},
   "outputs": [],
   "source": [
    "import pandas as pd\n",
    "import random\n",
    "import numpy as np\n",
    "import math\n",
    "import copy"
   ]
  },
  {
   "cell_type": "markdown",
   "metadata": {},
   "source": [
    "## n-Fold Cross Validation"
   ]
  },
  {
   "cell_type": "code",
   "execution_count": 2,
   "metadata": {},
   "outputs": [],
   "source": [
    "# n-Fold Cross Validation\n",
    "# data is the dataset to be used for the algorithm\n",
    "# n is the number of folds desired\n",
    "# target_class is the index of the target class feature\n",
    "# features is a list of the indicies for the features to be used to measure distance\n",
    "# Algorithm is which algorithm is chosen to be used and returns a model\n",
    "# Performance tests the resulting model and returns a performance metric\n",
    "# returns metrics- a list of n performance metrics\n",
    "def n_fold_cross_val(data, n, target_class, features, Algorithm, Performance):\n",
    "    metrics= []\n",
    "    splits= []\n",
    "    list_of_indices = list(range(len(data)))\n",
    "    n_data = len(data) #this is the number of records in the data\n",
    "    test_size = int(n_data/n) #this is the number of records in each test set\n",
    "    df = data.sample(frac=1).reset_index(drop=True) # a dataframe with shuffled records\n",
    "    df.sort_values(by= df.columns[target_class]) # sorts the data by the target class\n",
    "    \n",
    "    # create n splits \n",
    "    for i in range(n):\n",
    "        split = []\n",
    "        splits.append(split)\n",
    "    # end for\n",
    "    # splitting the folds so that each fold has approx. the same number of each class\n",
    "    counter = 0\n",
    "    for count in range(test_size):\n",
    "        for i in range(n):\n",
    "            splits[i].append(n*count +counter)\n",
    "            counter = counter +1\n",
    "        # end for\n",
    "        counter = 0\n",
    "    # end for\n",
    "    \n",
    "    for i in range(n):\n",
    "        test_split = splits[i]\n",
    "        train_split = []\n",
    "        for index in range(n_data):\n",
    "            if(index not in test_split):\n",
    "                train_split.append(index)\n",
    "            # end if\n",
    "        # end for\n",
    "        # run algorithm\n",
    "        model = Algorithm(df, train_split, features, target_class)\n",
    "        output = Performance(df, model, test_split, features, target_class, target_type)    \n",
    "        metrics.append(output)\n",
    "        \n",
    "    # end for\n",
    "    \n",
    "    return metrics"
   ]
  }
 ],
 "metadata": {
  "kernelspec": {
   "display_name": "Python 3",
   "language": "python",
   "name": "python3"
  },
  "language_info": {
   "codemirror_mode": {
    "name": "ipython",
    "version": 3
   },
   "file_extension": ".py",
   "mimetype": "text/x-python",
   "name": "python",
   "nbconvert_exporter": "python",
   "pygments_lexer": "ipython3",
   "version": "3.7.4"
  }
 },
 "nbformat": 4,
 "nbformat_minor": 2
}
