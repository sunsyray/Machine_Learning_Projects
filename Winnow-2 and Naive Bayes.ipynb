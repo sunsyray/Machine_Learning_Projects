{
 "cells": [
  {
   "cell_type": "code",
   "execution_count": 1,
   "metadata": {},
   "outputs": [],
   "source": [
    "import pandas as pd\n",
    "import random\n",
    "import numpy as np\n"
   ]
  },
  {
   "cell_type": "markdown",
   "metadata": {},
   "source": [
    "## This code performs 2 algorithms, Winnow-2 and Naive Bayes, on the Breast Cancer dataset from the UCI Machine Learning Repository https://archive.ics.uci.edu/ml/index.php\n",
    "\n",
    "[Datasets](#Datasets):\n",
    "\n",
    "[Breast Cancer](#Breast_Cancer)- 2 classes  \n",
    "\n",
    "[Test Splits](#Test_Splits)  \n",
    "[Winnow-2](#Winnow)  \n",
    "[Naive Bayes](#Naive_Bayes)  \n",
    "[Models](#Models)  "
   ]
  },
  {
   "cell_type": "markdown",
   "metadata": {},
   "source": [
    "<a id=\"Datasets\"></a>\n",
    "# Dataset EDA"
   ]
  },
  {
   "cell_type": "markdown",
   "metadata": {},
   "source": [
    "<a id=\"Breast_Cancer\"></a>\n",
    "## Breast Cancer"
   ]
  },
  {
   "cell_type": "code",
   "execution_count": 2,
   "metadata": {},
   "outputs": [],
   "source": [
    "breast_cancer = pd.read_csv( \"breast-cancer-wisconsin.data\", header=None, names = ['ID','clump_thick','unif_cell_size','unif_cell_shape','marg_adh','single_epit_cell_size','bare_nuclei','bland_chromatin','normal_nucleoli','mitosis','cancer_class'])"
   ]
  },
  {
   "cell_type": "code",
   "execution_count": 3,
   "metadata": {},
   "outputs": [
    {
     "name": "stdout",
     "output_type": "stream",
     "text": [
      "<class 'pandas.core.frame.DataFrame'>\n",
      "RangeIndex: 699 entries, 0 to 698\n",
      "Data columns (total 11 columns):\n",
      "ID                       699 non-null int64\n",
      "clump_thick              699 non-null int64\n",
      "unif_cell_size           699 non-null int64\n",
      "unif_cell_shape          699 non-null int64\n",
      "marg_adh                 699 non-null int64\n",
      "single_epit_cell_size    699 non-null int64\n",
      "bare_nuclei              699 non-null object\n",
      "bland_chromatin          699 non-null int64\n",
      "normal_nucleoli          699 non-null int64\n",
      "mitosis                  699 non-null int64\n",
      "cancer_class             699 non-null int64\n",
      "dtypes: int64(10), object(1)\n",
      "memory usage: 60.2+ KB\n"
     ]
    }
   ],
   "source": [
    "breast_cancer.info()"
   ]
  },
  {
   "cell_type": "code",
   "execution_count": 4,
   "metadata": {},
   "outputs": [
    {
     "data": {
      "text/html": [
       "<div>\n",
       "<style scoped>\n",
       "    .dataframe tbody tr th:only-of-type {\n",
       "        vertical-align: middle;\n",
       "    }\n",
       "\n",
       "    .dataframe tbody tr th {\n",
       "        vertical-align: top;\n",
       "    }\n",
       "\n",
       "    .dataframe thead th {\n",
       "        text-align: right;\n",
       "    }\n",
       "</style>\n",
       "<table border=\"1\" class=\"dataframe\">\n",
       "  <thead>\n",
       "    <tr style=\"text-align: right;\">\n",
       "      <th></th>\n",
       "      <th>ID</th>\n",
       "      <th>clump_thick</th>\n",
       "      <th>unif_cell_size</th>\n",
       "      <th>unif_cell_shape</th>\n",
       "      <th>marg_adh</th>\n",
       "      <th>single_epit_cell_size</th>\n",
       "      <th>bare_nuclei</th>\n",
       "      <th>bland_chromatin</th>\n",
       "      <th>normal_nucleoli</th>\n",
       "      <th>mitosis</th>\n",
       "      <th>cancer_class</th>\n",
       "    </tr>\n",
       "  </thead>\n",
       "  <tbody>\n",
       "    <tr>\n",
       "      <td>0</td>\n",
       "      <td>1000025</td>\n",
       "      <td>5</td>\n",
       "      <td>1</td>\n",
       "      <td>1</td>\n",
       "      <td>1</td>\n",
       "      <td>2</td>\n",
       "      <td>1</td>\n",
       "      <td>3</td>\n",
       "      <td>1</td>\n",
       "      <td>1</td>\n",
       "      <td>2</td>\n",
       "    </tr>\n",
       "    <tr>\n",
       "      <td>1</td>\n",
       "      <td>1002945</td>\n",
       "      <td>5</td>\n",
       "      <td>4</td>\n",
       "      <td>4</td>\n",
       "      <td>5</td>\n",
       "      <td>7</td>\n",
       "      <td>10</td>\n",
       "      <td>3</td>\n",
       "      <td>2</td>\n",
       "      <td>1</td>\n",
       "      <td>2</td>\n",
       "    </tr>\n",
       "    <tr>\n",
       "      <td>2</td>\n",
       "      <td>1015425</td>\n",
       "      <td>3</td>\n",
       "      <td>1</td>\n",
       "      <td>1</td>\n",
       "      <td>1</td>\n",
       "      <td>2</td>\n",
       "      <td>2</td>\n",
       "      <td>3</td>\n",
       "      <td>1</td>\n",
       "      <td>1</td>\n",
       "      <td>2</td>\n",
       "    </tr>\n",
       "    <tr>\n",
       "      <td>3</td>\n",
       "      <td>1016277</td>\n",
       "      <td>6</td>\n",
       "      <td>8</td>\n",
       "      <td>8</td>\n",
       "      <td>1</td>\n",
       "      <td>3</td>\n",
       "      <td>4</td>\n",
       "      <td>3</td>\n",
       "      <td>7</td>\n",
       "      <td>1</td>\n",
       "      <td>2</td>\n",
       "    </tr>\n",
       "    <tr>\n",
       "      <td>4</td>\n",
       "      <td>1017023</td>\n",
       "      <td>4</td>\n",
       "      <td>1</td>\n",
       "      <td>1</td>\n",
       "      <td>3</td>\n",
       "      <td>2</td>\n",
       "      <td>1</td>\n",
       "      <td>3</td>\n",
       "      <td>1</td>\n",
       "      <td>1</td>\n",
       "      <td>2</td>\n",
       "    </tr>\n",
       "  </tbody>\n",
       "</table>\n",
       "</div>"
      ],
      "text/plain": [
       "        ID  clump_thick  unif_cell_size  unif_cell_shape  marg_adh  \\\n",
       "0  1000025            5               1                1         1   \n",
       "1  1002945            5               4                4         5   \n",
       "2  1015425            3               1                1         1   \n",
       "3  1016277            6               8                8         1   \n",
       "4  1017023            4               1                1         3   \n",
       "\n",
       "   single_epit_cell_size bare_nuclei  bland_chromatin  normal_nucleoli  \\\n",
       "0                      2           1                3                1   \n",
       "1                      7          10                3                2   \n",
       "2                      2           2                3                1   \n",
       "3                      3           4                3                7   \n",
       "4                      2           1                3                1   \n",
       "\n",
       "   mitosis  cancer_class  \n",
       "0        1             2  \n",
       "1        1             2  \n",
       "2        1             2  \n",
       "3        1             2  \n",
       "4        1             2  "
      ]
     },
     "execution_count": 4,
     "metadata": {},
     "output_type": "execute_result"
    }
   ],
   "source": [
    "breast_cancer.head()"
   ]
  },
  {
   "cell_type": "markdown",
   "metadata": {},
   "source": [
    "Feature bare_nuclei is of object type, this will need to be researched further."
   ]
  },
  {
   "cell_type": "code",
   "execution_count": 5,
   "metadata": {},
   "outputs": [
    {
     "data": {
      "text/plain": [
       "ID                       0\n",
       "clump_thick              0\n",
       "unif_cell_size           0\n",
       "unif_cell_shape          0\n",
       "marg_adh                 0\n",
       "single_epit_cell_size    0\n",
       "bare_nuclei              0\n",
       "bland_chromatin          0\n",
       "normal_nucleoli          0\n",
       "mitosis                  0\n",
       "cancer_class             0\n",
       "dtype: int64"
      ]
     },
     "execution_count": 5,
     "metadata": {},
     "output_type": "execute_result"
    }
   ],
   "source": [
    "breast_cancer.isna().sum()"
   ]
  },
  {
   "cell_type": "code",
   "execution_count": 6,
   "metadata": {},
   "outputs": [
    {
     "data": {
      "text/plain": [
       "1     402\n",
       "10    132\n",
       "5      30\n",
       "2      30\n",
       "3      28\n",
       "8      21\n",
       "4      19\n",
       "?      16\n",
       "9       9\n",
       "7       8\n",
       "6       4\n",
       "Name: bare_nuclei, dtype: int64"
      ]
     },
     "execution_count": 6,
     "metadata": {},
     "output_type": "execute_result"
    }
   ],
   "source": [
    "breast_cancer.bare_nuclei.value_counts()"
   ]
  },
  {
   "cell_type": "markdown",
   "metadata": {},
   "source": [
    "With 16 records with ? we can drop those invalid values and update the column to be int.\n",
    "\n",
    "Other options could have been:\n",
    "Go back to the source of the data to see if the missing values could be corrected.\n",
    "Keep the records and input a value based on similar records.\n",
    "Keep the records and only ignore the missing values."
   ]
  },
  {
   "cell_type": "code",
   "execution_count": 7,
   "metadata": {},
   "outputs": [],
   "source": [
    "breast_cancer=breast_cancer[breast_cancer.bare_nuclei != '?']"
   ]
  },
  {
   "cell_type": "code",
   "execution_count": 8,
   "metadata": {},
   "outputs": [],
   "source": [
    "breast_cancer.bare_nuclei = breast_cancer.bare_nuclei.astype(int)"
   ]
  },
  {
   "cell_type": "code",
   "execution_count": 9,
   "metadata": {},
   "outputs": [
    {
     "name": "stdout",
     "output_type": "stream",
     "text": [
      "<class 'pandas.core.frame.DataFrame'>\n",
      "Int64Index: 683 entries, 0 to 698\n",
      "Data columns (total 11 columns):\n",
      "ID                       683 non-null int64\n",
      "clump_thick              683 non-null int64\n",
      "unif_cell_size           683 non-null int64\n",
      "unif_cell_shape          683 non-null int64\n",
      "marg_adh                 683 non-null int64\n",
      "single_epit_cell_size    683 non-null int64\n",
      "bare_nuclei              683 non-null int32\n",
      "bland_chromatin          683 non-null int64\n",
      "normal_nucleoli          683 non-null int64\n",
      "mitosis                  683 non-null int64\n",
      "cancer_class             683 non-null int64\n",
      "dtypes: int32(1), int64(10)\n",
      "memory usage: 61.4 KB\n"
     ]
    }
   ],
   "source": [
    "breast_cancer.info()"
   ]
  },
  {
   "cell_type": "markdown",
   "metadata": {},
   "source": [
    "Next we need to create boolean indicator features to replace the current features."
   ]
  },
  {
   "cell_type": "code",
   "execution_count": 10,
   "metadata": {},
   "outputs": [
    {
     "data": {
      "text/plain": [
       "2    0.650073\n",
       "4    0.349927\n",
       "Name: cancer_class, dtype: float64"
      ]
     },
     "execution_count": 10,
     "metadata": {},
     "output_type": "execute_result"
    }
   ],
   "source": [
    "breast_cancer.cancer_class.value_counts(normalize = True)"
   ]
  },
  {
   "cell_type": "code",
   "execution_count": 11,
   "metadata": {},
   "outputs": [],
   "source": [
    "breast_cancer = pd.concat([breast_cancer, pd.get_dummies(breast_cancer[\"cancer_class\"],prefix = 'cancer_class_')], axis=1)"
   ]
  },
  {
   "cell_type": "code",
   "execution_count": 12,
   "metadata": {},
   "outputs": [],
   "source": [
    "breast_cancer = pd.concat([breast_cancer, pd.get_dummies(breast_cancer[\"clump_thick\"],prefix = 'clump_thick_')], axis=1)"
   ]
  },
  {
   "cell_type": "code",
   "execution_count": 13,
   "metadata": {},
   "outputs": [],
   "source": [
    "breast_cancer = pd.concat([breast_cancer, pd.get_dummies(breast_cancer[\"unif_cell_size\"],prefix = 'unif_cell_size_')], axis=1)"
   ]
  },
  {
   "cell_type": "code",
   "execution_count": 14,
   "metadata": {},
   "outputs": [],
   "source": [
    "breast_cancer = pd.concat([breast_cancer, pd.get_dummies(breast_cancer[\"unif_cell_shape\"],prefix = 'unif_cell_shape_')], axis=1)"
   ]
  },
  {
   "cell_type": "code",
   "execution_count": 15,
   "metadata": {},
   "outputs": [],
   "source": [
    "breast_cancer = pd.concat([breast_cancer, pd.get_dummies(breast_cancer[\"marg_adh\"],prefix = 'marg_adh_')], axis=1)"
   ]
  },
  {
   "cell_type": "code",
   "execution_count": 16,
   "metadata": {},
   "outputs": [],
   "source": [
    "breast_cancer = pd.concat([breast_cancer, pd.get_dummies(breast_cancer[\"single_epit_cell_size\"],prefix = 'single_epit_cell_size_')], axis=1)"
   ]
  },
  {
   "cell_type": "code",
   "execution_count": 17,
   "metadata": {},
   "outputs": [],
   "source": [
    "breast_cancer = pd.concat([breast_cancer, pd.get_dummies(breast_cancer[\"bare_nuclei\"],prefix = 'bare_nuclei_')], axis=1)"
   ]
  },
  {
   "cell_type": "code",
   "execution_count": 18,
   "metadata": {},
   "outputs": [],
   "source": [
    "breast_cancer = pd.concat([breast_cancer, pd.get_dummies(breast_cancer[\"bland_chromatin\"],prefix = 'bland_chromatin_')], axis=1)"
   ]
  },
  {
   "cell_type": "code",
   "execution_count": 19,
   "metadata": {},
   "outputs": [],
   "source": [
    "breast_cancer = pd.concat([breast_cancer, pd.get_dummies(breast_cancer[\"normal_nucleoli\"],prefix = 'normal_nucleoli_')], axis=1)"
   ]
  },
  {
   "cell_type": "code",
   "execution_count": 20,
   "metadata": {},
   "outputs": [],
   "source": [
    "breast_cancer = pd.concat([breast_cancer, pd.get_dummies(breast_cancer[\"mitosis\"],prefix = 'mitosis_')], axis=1)"
   ]
  },
  {
   "cell_type": "code",
   "execution_count": 21,
   "metadata": {},
   "outputs": [
    {
     "name": "stdout",
     "output_type": "stream",
     "text": [
      "<class 'pandas.core.frame.DataFrame'>\n",
      "Int64Index: 683 entries, 0 to 698\n",
      "Columns: 102 entries, ID to mitosis__10\n",
      "dtypes: int32(1), int64(10), uint8(91)\n",
      "memory usage: 122.1 KB\n"
     ]
    }
   ],
   "source": [
    "breast_cancer.info()"
   ]
  },
  {
   "cell_type": "markdown",
   "metadata": {},
   "source": [
    "Now we can drop all of the un-needed features from the dataset."
   ]
  },
  {
   "cell_type": "code",
   "execution_count": 22,
   "metadata": {},
   "outputs": [],
   "source": [
    "breast_cancer = breast_cancer.drop(['ID', 'clump_thick', 'unif_cell_size', 'unif_cell_shape','marg_adh','single_epit_cell_size','bare_nuclei','bland_chromatin','normal_nucleoli','mitosis','cancer_class'], axis=1)"
   ]
  },
  {
   "cell_type": "code",
   "execution_count": 23,
   "metadata": {},
   "outputs": [
    {
     "name": "stdout",
     "output_type": "stream",
     "text": [
      "<class 'pandas.core.frame.DataFrame'>\n",
      "Int64Index: 683 entries, 0 to 698\n",
      "Data columns (total 91 columns):\n",
      "cancer_class__2              683 non-null uint8\n",
      "cancer_class__4              683 non-null uint8\n",
      "clump_thick__1               683 non-null uint8\n",
      "clump_thick__2               683 non-null uint8\n",
      "clump_thick__3               683 non-null uint8\n",
      "clump_thick__4               683 non-null uint8\n",
      "clump_thick__5               683 non-null uint8\n",
      "clump_thick__6               683 non-null uint8\n",
      "clump_thick__7               683 non-null uint8\n",
      "clump_thick__8               683 non-null uint8\n",
      "clump_thick__9               683 non-null uint8\n",
      "clump_thick__10              683 non-null uint8\n",
      "unif_cell_size__1            683 non-null uint8\n",
      "unif_cell_size__2            683 non-null uint8\n",
      "unif_cell_size__3            683 non-null uint8\n",
      "unif_cell_size__4            683 non-null uint8\n",
      "unif_cell_size__5            683 non-null uint8\n",
      "unif_cell_size__6            683 non-null uint8\n",
      "unif_cell_size__7            683 non-null uint8\n",
      "unif_cell_size__8            683 non-null uint8\n",
      "unif_cell_size__9            683 non-null uint8\n",
      "unif_cell_size__10           683 non-null uint8\n",
      "unif_cell_shape__1           683 non-null uint8\n",
      "unif_cell_shape__2           683 non-null uint8\n",
      "unif_cell_shape__3           683 non-null uint8\n",
      "unif_cell_shape__4           683 non-null uint8\n",
      "unif_cell_shape__5           683 non-null uint8\n",
      "unif_cell_shape__6           683 non-null uint8\n",
      "unif_cell_shape__7           683 non-null uint8\n",
      "unif_cell_shape__8           683 non-null uint8\n",
      "unif_cell_shape__9           683 non-null uint8\n",
      "unif_cell_shape__10          683 non-null uint8\n",
      "marg_adh__1                  683 non-null uint8\n",
      "marg_adh__2                  683 non-null uint8\n",
      "marg_adh__3                  683 non-null uint8\n",
      "marg_adh__4                  683 non-null uint8\n",
      "marg_adh__5                  683 non-null uint8\n",
      "marg_adh__6                  683 non-null uint8\n",
      "marg_adh__7                  683 non-null uint8\n",
      "marg_adh__8                  683 non-null uint8\n",
      "marg_adh__9                  683 non-null uint8\n",
      "marg_adh__10                 683 non-null uint8\n",
      "single_epit_cell_size__1     683 non-null uint8\n",
      "single_epit_cell_size__2     683 non-null uint8\n",
      "single_epit_cell_size__3     683 non-null uint8\n",
      "single_epit_cell_size__4     683 non-null uint8\n",
      "single_epit_cell_size__5     683 non-null uint8\n",
      "single_epit_cell_size__6     683 non-null uint8\n",
      "single_epit_cell_size__7     683 non-null uint8\n",
      "single_epit_cell_size__8     683 non-null uint8\n",
      "single_epit_cell_size__9     683 non-null uint8\n",
      "single_epit_cell_size__10    683 non-null uint8\n",
      "bare_nuclei__1               683 non-null uint8\n",
      "bare_nuclei__2               683 non-null uint8\n",
      "bare_nuclei__3               683 non-null uint8\n",
      "bare_nuclei__4               683 non-null uint8\n",
      "bare_nuclei__5               683 non-null uint8\n",
      "bare_nuclei__6               683 non-null uint8\n",
      "bare_nuclei__7               683 non-null uint8\n",
      "bare_nuclei__8               683 non-null uint8\n",
      "bare_nuclei__9               683 non-null uint8\n",
      "bare_nuclei__10              683 non-null uint8\n",
      "bland_chromatin__1           683 non-null uint8\n",
      "bland_chromatin__2           683 non-null uint8\n",
      "bland_chromatin__3           683 non-null uint8\n",
      "bland_chromatin__4           683 non-null uint8\n",
      "bland_chromatin__5           683 non-null uint8\n",
      "bland_chromatin__6           683 non-null uint8\n",
      "bland_chromatin__7           683 non-null uint8\n",
      "bland_chromatin__8           683 non-null uint8\n",
      "bland_chromatin__9           683 non-null uint8\n",
      "bland_chromatin__10          683 non-null uint8\n",
      "normal_nucleoli__1           683 non-null uint8\n",
      "normal_nucleoli__2           683 non-null uint8\n",
      "normal_nucleoli__3           683 non-null uint8\n",
      "normal_nucleoli__4           683 non-null uint8\n",
      "normal_nucleoli__5           683 non-null uint8\n",
      "normal_nucleoli__6           683 non-null uint8\n",
      "normal_nucleoli__7           683 non-null uint8\n",
      "normal_nucleoli__8           683 non-null uint8\n",
      "normal_nucleoli__9           683 non-null uint8\n",
      "normal_nucleoli__10          683 non-null uint8\n",
      "mitosis__1                   683 non-null uint8\n",
      "mitosis__2                   683 non-null uint8\n",
      "mitosis__3                   683 non-null uint8\n",
      "mitosis__4                   683 non-null uint8\n",
      "mitosis__5                   683 non-null uint8\n",
      "mitosis__6                   683 non-null uint8\n",
      "mitosis__7                   683 non-null uint8\n",
      "mitosis__8                   683 non-null uint8\n",
      "mitosis__10                  683 non-null uint8\n",
      "dtypes: uint8(91)\n",
      "memory usage: 66.0 KB\n"
     ]
    }
   ],
   "source": [
    "breast_cancer.info()"
   ]
  },
  {
   "cell_type": "code",
   "execution_count": 24,
   "metadata": {},
   "outputs": [
    {
     "data": {
      "text/html": [
       "<div>\n",
       "<style scoped>\n",
       "    .dataframe tbody tr th:only-of-type {\n",
       "        vertical-align: middle;\n",
       "    }\n",
       "\n",
       "    .dataframe tbody tr th {\n",
       "        vertical-align: top;\n",
       "    }\n",
       "\n",
       "    .dataframe thead th {\n",
       "        text-align: right;\n",
       "    }\n",
       "</style>\n",
       "<table border=\"1\" class=\"dataframe\">\n",
       "  <thead>\n",
       "    <tr style=\"text-align: right;\">\n",
       "      <th></th>\n",
       "      <th>cancer_class__2</th>\n",
       "      <th>cancer_class__4</th>\n",
       "      <th>clump_thick__1</th>\n",
       "      <th>clump_thick__2</th>\n",
       "      <th>clump_thick__3</th>\n",
       "      <th>clump_thick__4</th>\n",
       "      <th>clump_thick__5</th>\n",
       "      <th>clump_thick__6</th>\n",
       "      <th>clump_thick__7</th>\n",
       "      <th>clump_thick__8</th>\n",
       "      <th>...</th>\n",
       "      <th>normal_nucleoli__10</th>\n",
       "      <th>mitosis__1</th>\n",
       "      <th>mitosis__2</th>\n",
       "      <th>mitosis__3</th>\n",
       "      <th>mitosis__4</th>\n",
       "      <th>mitosis__5</th>\n",
       "      <th>mitosis__6</th>\n",
       "      <th>mitosis__7</th>\n",
       "      <th>mitosis__8</th>\n",
       "      <th>mitosis__10</th>\n",
       "    </tr>\n",
       "  </thead>\n",
       "  <tbody>\n",
       "    <tr>\n",
       "      <td>0</td>\n",
       "      <td>1</td>\n",
       "      <td>0</td>\n",
       "      <td>0</td>\n",
       "      <td>0</td>\n",
       "      <td>0</td>\n",
       "      <td>0</td>\n",
       "      <td>1</td>\n",
       "      <td>0</td>\n",
       "      <td>0</td>\n",
       "      <td>0</td>\n",
       "      <td>...</td>\n",
       "      <td>0</td>\n",
       "      <td>1</td>\n",
       "      <td>0</td>\n",
       "      <td>0</td>\n",
       "      <td>0</td>\n",
       "      <td>0</td>\n",
       "      <td>0</td>\n",
       "      <td>0</td>\n",
       "      <td>0</td>\n",
       "      <td>0</td>\n",
       "    </tr>\n",
       "    <tr>\n",
       "      <td>1</td>\n",
       "      <td>1</td>\n",
       "      <td>0</td>\n",
       "      <td>0</td>\n",
       "      <td>0</td>\n",
       "      <td>0</td>\n",
       "      <td>0</td>\n",
       "      <td>1</td>\n",
       "      <td>0</td>\n",
       "      <td>0</td>\n",
       "      <td>0</td>\n",
       "      <td>...</td>\n",
       "      <td>0</td>\n",
       "      <td>1</td>\n",
       "      <td>0</td>\n",
       "      <td>0</td>\n",
       "      <td>0</td>\n",
       "      <td>0</td>\n",
       "      <td>0</td>\n",
       "      <td>0</td>\n",
       "      <td>0</td>\n",
       "      <td>0</td>\n",
       "    </tr>\n",
       "    <tr>\n",
       "      <td>2</td>\n",
       "      <td>1</td>\n",
       "      <td>0</td>\n",
       "      <td>0</td>\n",
       "      <td>0</td>\n",
       "      <td>1</td>\n",
       "      <td>0</td>\n",
       "      <td>0</td>\n",
       "      <td>0</td>\n",
       "      <td>0</td>\n",
       "      <td>0</td>\n",
       "      <td>...</td>\n",
       "      <td>0</td>\n",
       "      <td>1</td>\n",
       "      <td>0</td>\n",
       "      <td>0</td>\n",
       "      <td>0</td>\n",
       "      <td>0</td>\n",
       "      <td>0</td>\n",
       "      <td>0</td>\n",
       "      <td>0</td>\n",
       "      <td>0</td>\n",
       "    </tr>\n",
       "    <tr>\n",
       "      <td>3</td>\n",
       "      <td>1</td>\n",
       "      <td>0</td>\n",
       "      <td>0</td>\n",
       "      <td>0</td>\n",
       "      <td>0</td>\n",
       "      <td>0</td>\n",
       "      <td>0</td>\n",
       "      <td>1</td>\n",
       "      <td>0</td>\n",
       "      <td>0</td>\n",
       "      <td>...</td>\n",
       "      <td>0</td>\n",
       "      <td>1</td>\n",
       "      <td>0</td>\n",
       "      <td>0</td>\n",
       "      <td>0</td>\n",
       "      <td>0</td>\n",
       "      <td>0</td>\n",
       "      <td>0</td>\n",
       "      <td>0</td>\n",
       "      <td>0</td>\n",
       "    </tr>\n",
       "    <tr>\n",
       "      <td>4</td>\n",
       "      <td>1</td>\n",
       "      <td>0</td>\n",
       "      <td>0</td>\n",
       "      <td>0</td>\n",
       "      <td>0</td>\n",
       "      <td>1</td>\n",
       "      <td>0</td>\n",
       "      <td>0</td>\n",
       "      <td>0</td>\n",
       "      <td>0</td>\n",
       "      <td>...</td>\n",
       "      <td>0</td>\n",
       "      <td>1</td>\n",
       "      <td>0</td>\n",
       "      <td>0</td>\n",
       "      <td>0</td>\n",
       "      <td>0</td>\n",
       "      <td>0</td>\n",
       "      <td>0</td>\n",
       "      <td>0</td>\n",
       "      <td>0</td>\n",
       "    </tr>\n",
       "  </tbody>\n",
       "</table>\n",
       "<p>5 rows × 91 columns</p>\n",
       "</div>"
      ],
      "text/plain": [
       "   cancer_class__2  cancer_class__4  clump_thick__1  clump_thick__2  \\\n",
       "0                1                0               0               0   \n",
       "1                1                0               0               0   \n",
       "2                1                0               0               0   \n",
       "3                1                0               0               0   \n",
       "4                1                0               0               0   \n",
       "\n",
       "   clump_thick__3  clump_thick__4  clump_thick__5  clump_thick__6  \\\n",
       "0               0               0               1               0   \n",
       "1               0               0               1               0   \n",
       "2               1               0               0               0   \n",
       "3               0               0               0               1   \n",
       "4               0               1               0               0   \n",
       "\n",
       "   clump_thick__7  clump_thick__8  ...  normal_nucleoli__10  mitosis__1  \\\n",
       "0               0               0  ...                    0           1   \n",
       "1               0               0  ...                    0           1   \n",
       "2               0               0  ...                    0           1   \n",
       "3               0               0  ...                    0           1   \n",
       "4               0               0  ...                    0           1   \n",
       "\n",
       "   mitosis__2  mitosis__3  mitosis__4  mitosis__5  mitosis__6  mitosis__7  \\\n",
       "0           0           0           0           0           0           0   \n",
       "1           0           0           0           0           0           0   \n",
       "2           0           0           0           0           0           0   \n",
       "3           0           0           0           0           0           0   \n",
       "4           0           0           0           0           0           0   \n",
       "\n",
       "   mitosis__8  mitosis__10  \n",
       "0           0            0  \n",
       "1           0            0  \n",
       "2           0            0  \n",
       "3           0            0  \n",
       "4           0            0  \n",
       "\n",
       "[5 rows x 91 columns]"
      ]
     },
     "execution_count": 24,
     "metadata": {},
     "output_type": "execute_result"
    }
   ],
   "source": [
    "breast_cancer.head()"
   ]
  },
  {
   "cell_type": "markdown",
   "metadata": {},
   "source": [
    "<a id=\"Test_Splits\"></a>\n",
    "## Split into Test and Training DataSets\n",
    "\n",
    "The following two functions split the datasets into n folds, then use one fold for testing and the remaining folds for training. They then train the corresponding model based on the training dataset, and test that model based on the testing dataset. The resulting output provides the performance by returning the accuracy, precision, specificity, and recall."
   ]
  },
  {
   "cell_type": "code",
   "execution_count": 25,
   "metadata": {},
   "outputs": [],
   "source": [
    "# This function runs the Winnow-2 algorithm\n",
    "\n",
    "# data is the full dataset\n",
    "# n is the number of folds to split the data set into. One will be the test data, the rest will be the train data\n",
    "# target_class is the index for the feature that contains that class \n",
    "# attributes is a list of the indices for the attribute features\n",
    "# threshold is used for model prediction\n",
    "# alpha is a parameter used to adjust the weights\n",
    "# model is the initial model\n",
    "# returns accuracy, precision, specificity, and recall for the resulting model based on the test data\n",
    "def winnow_2(data, n, target_class, attributes, threshold, alpha, model):\n",
    "    accuracy= []\n",
    "    precision= []\n",
    "    specificity= []\n",
    "    recall= []\n",
    "    list_of_indices = list(range(len(data)))\n",
    "    k = len(data) #this is the number of records in the data\n",
    "    l = int(k/n) #this is the number of records in each test set\n",
    "\n",
    "    random.shuffle(list_of_indices)\n",
    "    splits = [list_of_indices[0:l-1]]\n",
    "\n",
    "    test = data.iloc[splits[0]]\n",
    "    training_indices = [index not in splits[0] for index in list_of_indices]\n",
    "    training = data.iloc[training_indices]\n",
    "    new_model = winnow_2_train(training, target_class, attributes, threshold, alpha, model)\n",
    "    accuracy1, precision1, specificity1, recall1 = winnow_2_test(test, target_class, attributes, threshold, new_model)\n",
    "        \n",
    "    print(new_model)\n",
    "    accuracy.append(accuracy1)\n",
    "    precision.append(precision1)\n",
    "    specificity.append(specificity1)\n",
    "    recall.append(recall1)\n",
    "        \n",
    "    return accuracy, precision, specificity, recall"
   ]
  },
  {
   "cell_type": "code",
   "execution_count": 26,
   "metadata": {},
   "outputs": [],
   "source": [
    "# This function runs the Naive Bayes algorithm\n",
    "\n",
    "# data is the full dataset\n",
    "# n is the number of folds to split the data set into. One will be the test data, the rest will be the train data\n",
    "# target_class is the index for the feature that contains that class \n",
    "# attributes is a list of the indices for the attribute features\n",
    "# model is the initial model\n",
    "# returns accuracy, precision, specificity, and recall for the resulting model based on the test data\n",
    "def naive_bayes(data, n, target_class, attributes, model):\n",
    "    accuracy= []\n",
    "    precision= []\n",
    "    specificity= []\n",
    "    recall= []\n",
    "    list_of_indices = list(range(len(data)))\n",
    "    k = len(data) #this is the number of records in the data\n",
    "    l = int(k/n) #this is the number of records in each split\n",
    "    \n",
    "    random.shuffle(list_of_indices)\n",
    "    splits = [list_of_indices[0:l - 1]]\n",
    "    \n",
    "    test = data.iloc[splits[0]]\n",
    "    training_indices = [index not in splits[0] for index in list_of_indices]\n",
    "    training = data.iloc[training_indices]\n",
    "    new_model = naive_bayes_train(training, target_class, attributes, model)\n",
    "    accuracy1, precision1, specificity1, recall1 = naive_bayes_test(test, target_class, attributes, new_model)\n",
    "        \n",
    "    accuracy.append(accuracy1)\n",
    "    precision.append(precision1)\n",
    "    specificity.append(specificity1)\n",
    "    recall.append(recall1)\n",
    "    print(new_model)\n",
    "    return accuracy, precision, specificity, recall"
   ]
  },
  {
   "cell_type": "markdown",
   "metadata": {},
   "source": [
    "<a id=\"Winnow\"></a>\n",
    "## Winnow-2"
   ]
  },
  {
   "cell_type": "code",
   "execution_count": 27,
   "metadata": {},
   "outputs": [],
   "source": [
    "# Winnow-2 only works on 2 classes at a time. If your dataset has more classes, you will need to create boolean features \n",
    "# for each class in your dataset and create a new model for each class.\n",
    "\n",
    "# The model is a list of weights, one for each feature in the dataset\n",
    "# Predictions are made by taking the weighted sum of the features x weights, and comparing the result to a threshold theta\n",
    "# If the weighted sum is greater than theta, the prediction is 1, otherwise the prediction is 0\n",
    "\n",
    "# Weights are initialized to be all 1s\n",
    "# Alpha is a number above 1\n",
    "\n",
    "# Process:\n",
    "# 1. Receive data instance\n",
    "# 2. Make prediction for that instance (0 means not in class, 1 means in class)\n",
    "# 3. Check if the prediction was correct\n",
    "# 3.a. If correct, do nothing\n",
    "# 3.b. If not correct, update weights via promotion or demotion\n",
    "# Promotion- happens when the prediction is 0 but the correct class is 1\n",
    "#            For only features with a value of 1, multiply the weight for that feature times alpha\n",
    "# Demotion- happens when the prediction is 1 but the correct class is 0\n",
    "#            For only features with a value of 1, divide the weight for that feature by alpha\n",
    "\n",
    "# data is the training dataset\n",
    "# target_class is the column # for the class you are checking\n",
    "# attributes should be a list with the column #s for the features in the data to check\n",
    "# threshold is used for model prediction\n",
    "# alpha is a parameter used to adjust the weights\n",
    "# model is the initial model\n",
    "# returns the trained model\n",
    "def winnow_2_train(data, target_class, attributes, threshold, alpha, model):\n",
    "    num_records = len(data)\n",
    "    num_attributes = len(attributes)\n",
    "    new_model = model\n",
    "    \n",
    "    for record in range(num_records): #Loop through all records in data\n",
    "        #use model to predict class (pandas indexing starts at 0)\n",
    "        curr_record = data.iloc[[record]] #pull current record data\n",
    "        sum_weights = 0\n",
    "        for index in range(num_attributes): #Loop through each attribute and add the weights\n",
    "            sum_weights = sum_weights + new_model[index] * curr_record.iloc[0,attributes[index]]\n",
    "        # end for\n",
    "            \n",
    "        prediction = 0\n",
    "        if(sum_weights > threshold):\n",
    "            prediction = 1\n",
    "        # end if\n",
    "        #check if class is correct\n",
    "        #if class is correct -no action\n",
    "        #if class is not correct, determine if promotion (predict 0 when correct is 1) or demotion (predict 1 when correct is 0)\n",
    "        if(prediction == 0):\n",
    "            if(curr_record.iloc[0,target_class]==1):\n",
    "                #promoting only adjusts weights for attributes that have a value of 1 - wi * alpha\n",
    "                for index in range(num_attributes):\n",
    "                    if(curr_record.iloc[0,attributes[index]] == 1):\n",
    "                        model[index] = model[index]*alpha\n",
    "                    # end if\n",
    "                # end for\n",
    "            # end if\n",
    "        # end if\n",
    "                \n",
    "        else:\n",
    "            if(curr_record.iloc[0,target_class]==0):\n",
    "                #demoting only adjusts weights for attributes that have a value of 1 - wi / alpha\n",
    "                for index in range(num_attributes):\n",
    "                    if(curr_record.iloc[0,attributes[index]] == 1):\n",
    "                        model[index] = model[index]/alpha\n",
    "                    # end if\n",
    "                # end for\n",
    "            # end if\n",
    "        # end else\n",
    "       \n",
    "    return new_model\n",
    "                "
   ]
  },
  {
   "cell_type": "code",
   "execution_count": 28,
   "metadata": {},
   "outputs": [],
   "source": [
    "# data is the test dataset\n",
    "# target_class is the column # for the class you are checking\n",
    "# attributes should be a list with the column #s for the features in the data to check\n",
    "# threshold is used for model prediction\n",
    "# model is the model to be tested\n",
    "# returns the calculated accuracy, precision, specificity, and recall\n",
    "def winnow_2_test(data, target_class, attributes,threshold, model):\n",
    "    num_records = len(data)\n",
    "    num_attributes = len(attributes)\n",
    "    \n",
    "    TP = 1\n",
    "    FP = 1\n",
    "    FN = 1\n",
    "    TN = 1\n",
    "    \n",
    "    \n",
    "    for record in range(num_records): #Loop through all records in data\n",
    "        #use model to predict class (pandas indexing starts at 0)\n",
    "        curr_record = data.iloc[[record]] #pull current record data\n",
    "        sum_weights = 0\n",
    "        for index in range(num_attributes): #Loop through each attribute and add the weights\n",
    "            sum_weights = sum_weights + model[index] * curr_record.iloc[0,attributes[index]]\n",
    "        # end for\n",
    "            \n",
    "        prediction = 0\n",
    "        if(sum_weights > threshold):\n",
    "            prediction = 1\n",
    "        # end if\n",
    "        #check if class is correct\n",
    "\n",
    "        if(prediction == 0):\n",
    "            if(curr_record.iloc[0,target_class]==0):\n",
    "                TN = TN +1\n",
    "            # end if\n",
    "            else:\n",
    "                FN = FN +1\n",
    "            # end else\n",
    "        # end if\n",
    "                \n",
    "        else:\n",
    "            if(curr_record.iloc[0,target_class]==1):\n",
    "                TP = TP+1\n",
    "            # end if\n",
    "            else:\n",
    "                FP = FP+1\n",
    "            # end else\n",
    "        # end else\n",
    "                \n",
    "    accuracy = (TP+TN)/(TP+TN+FP+FN)\n",
    "    precision = TP/(TP+FP)\n",
    "    specificity = TN/(TN+FP)\n",
    "    recall = TP/(TP+FN)\n",
    "\n",
    "    return accuracy, precision, specificity, recall"
   ]
  },
  {
   "cell_type": "markdown",
   "metadata": {},
   "source": [
    "<a id=\"Naive_Bayes\"></a>\n",
    "## Naive Bayes"
   ]
  },
  {
   "cell_type": "code",
   "execution_count": 29,
   "metadata": {},
   "outputs": [],
   "source": [
    "\n",
    "\n",
    "# Naive Bayes can work for multiple classes at a time, however for the purposes of comparing to Winnow-2 we will keep the\n",
    "# boolean attributes for each class.\n",
    "# The purpose of the algorithm is to find the class that maximizes the posterior probability of that class given the data.\n",
    "# It does this using Bayes Rule- P(c|f1,f2,...,fd)= P(f1,f2,...,fd|c)*P(c)/P(f1,f2,...,fd)\n",
    "# with the assumption that the features are conditionally independent of eachother given the classes, this becomes\n",
    "# P(c|f1,f2,...,fd)= P(f1|c)*P(f2|c)*...*P(fd|c)*P(c)/P(f1,f2,...,fd)\n",
    "# The Naive Bayes Classifier is the argmax of this, which is (the denominator does not matter because it does not depend on c):\n",
    "# class=argmax_c(P(c)*Product_i=1-d(P(fi|d)))\n",
    "\n",
    "# Some negatives for using Naive Bayes is the assumption that all of the features are conditionally independent of eachother\n",
    "# given the classes\n",
    "\n",
    "\n",
    "# data is the training dataset\n",
    "# target_class is the column # for the class you are checking\n",
    "# attributes should be a list with the column #s for the features in the data to check\n",
    "# model is the initial model\n",
    "# returns the trained model\n",
    "def naive_bayes_train(data, target_class, attributes, model):\n",
    "    num_records = len(data)\n",
    "    num_attributes = len(attributes)\n",
    "    new_model = model\n",
    "    count_1s = 1\n",
    "    count_0s = 1\n",
    "    \n",
    "    #Model of form\n",
    "    # P(0) / P(xi = 0)\n",
    "    # ---- / P(xi = 1)\n",
    "    # P(1) / P(xi = 0)\n",
    "    # ---- / P(xi = 1)\n",
    "    for record in range(num_records): #Loop through all records in data\n",
    "        #add 1 to model for every datapoint for each scenario\n",
    "        curr_record = data.iloc[[record]] #pull current record data\n",
    "        #first add for when target_class = 1\n",
    "        if(curr_record.iloc[0,target_class]==1):\n",
    "            for index in range(num_attributes): #Loop through each attribute\n",
    "                if(curr_record.iloc[0,attributes[index]]==1):\n",
    "                    new_model[3][index+1] = new_model[3][index+1] +1\n",
    "                # end if\n",
    "                else:\n",
    "                    new_model[2][index+1] = new_model[2][index+1] +1\n",
    "                # end else\n",
    "            new_model[2][0] = new_model[2][0] +1\n",
    "            count_1s = count_1s +1\n",
    "        # end if\n",
    "                \n",
    "        #then add for when target_class = 0\n",
    "        else:\n",
    "            for index in range(num_attributes): #Loop through each attribute  \n",
    "                if(curr_record.iloc[0,attributes[index]]==0):\n",
    "                    new_model[0][index+1] = new_model[0][index+1] +1\n",
    "                # end if\n",
    "                else:\n",
    "                    new_model[1][index+1]= new_model[1][index+1] +1\n",
    "                # end else\n",
    "            new_model[0][0] = new_model[0][0] +1\n",
    "            count_0s = count_0s+1\n",
    "        # end else\n",
    "    \n",
    "    \n",
    "    \n",
    "    new_model[0][0] = new_model[0][0] / num_records\n",
    "    new_model[2][0] = new_model[2][0] / num_records\n",
    "    \n",
    "    for index in range(num_attributes):\n",
    "        new_model[0][index+1] = (new_model[0][index+1] + 0.01) / count_0s\n",
    "        new_model[1][index+1] = (new_model[1][index+1] + 0.01) / count_0s\n",
    "        new_model[2][index+1] = (new_model[2][index+1] + 0.01) / count_1s\n",
    "        new_model[3][index+1] = (new_model[3][index+1] + 0.01) / count_1s\n",
    "    # end for\n",
    "    \n",
    "\n",
    "    return new_model"
   ]
  },
  {
   "cell_type": "code",
   "execution_count": 30,
   "metadata": {},
   "outputs": [],
   "source": [
    "# data is the test dataset\n",
    "# target_class is the column # for the class you are checking\n",
    "# attributes should be a list with the column #s for the features in the data to check\n",
    "# model is the model to be tested\n",
    "# returns the calculated accuracy, precision, specificity, and recall\n",
    "def naive_bayes_test(data, target_class, attributes, model):\n",
    "    num_records = len(data)\n",
    "    num_attributes = len(attributes)\n",
    "    \n",
    "    TP = 1\n",
    "    FP = 1\n",
    "    FN = 1\n",
    "    TN = 1\n",
    "\n",
    "    #Model of form\n",
    "    # P(0) / P(xi = 0)\n",
    "    # ---- / P(xi = 1)\n",
    "    # P(1) / P(xi = 0)\n",
    "    # ---- / P(xi = 1)\n",
    "    for record in range(num_records): #Loop through all records in data\n",
    "        curr_record = data.iloc[[record]] #pull current record data\n",
    "        p_0 = model[0][0]\n",
    "        p_1 = model[2][0]\n",
    "        for index in range(num_attributes): #Loop through each attribute\n",
    "            if(curr_record.iloc[0,attributes[index]]==1):\n",
    "                p_0 = p_0 * model[1][index+1]\n",
    "                p_1 = p_1 * model[3][index+1]\n",
    "            # end if\n",
    "            else:\n",
    "                p_0 = p_0 * model[0][index+1]\n",
    "                p_1 = p_1 * model[2][index+1]\n",
    "            # end else\n",
    "                \n",
    "        #determine class and add to count_correct if correct\n",
    "        if(p_0>p_1):\n",
    "            if(curr_record.iloc[0,target_class]==0):\n",
    "                TN = TN+1\n",
    "            # end if\n",
    "            else:\n",
    "                FN = FN+1\n",
    "            # end else\n",
    "        else:\n",
    "            if(curr_record.iloc[0,target_class]==1):\n",
    "                TP = TP+1\n",
    "            # end if\n",
    "            else:\n",
    "                FP = FP+1\n",
    "            # end else\n",
    "    # end for\n",
    "\n",
    "\n",
    "    \n",
    "    accuracy = (TP+TN)/(TP+TN+FP+FN)\n",
    "    precision = TP/(TP+FP)\n",
    "    specificity = TN/(TN+FP)\n",
    "    recall = TP/(TP+FN)\n",
    "    \n",
    "    return accuracy, precision, specificity, recall"
   ]
  },
  {
   "cell_type": "markdown",
   "metadata": {},
   "source": [
    "<a id=\"Models\"></a>\n",
    "## Models"
   ]
  },
  {
   "cell_type": "markdown",
   "metadata": {},
   "source": [
    "Winnow-2"
   ]
  },
  {
   "cell_type": "code",
   "execution_count": 31,
   "metadata": {},
   "outputs": [
    {
     "name": "stdout",
     "output_type": "stream",
     "text": [
      "winnow-2 Breast Cancer model:\n",
      "[1, 1.0, 1.0, 0.5, 1.0, 0.5, 0.25, 0.0625, 0.25, 0.0009765625, 1.0, 0.5, 1.0, 0.25, 0.5, 0.25, 0.25, 0.0625, 1.0, 0.00390625, 2.0, 0.25, 1.0, 0.125, 0.25, 0.25, 0.25, 0.0625, 1, 0.015625, 0.125, 0.25, 0.5, 0.5, 0.25, 0.25, 0.5, 0.0625, 1, 0.0625, 1, 0.5, 0.03125, 0.125, 0.25, 0.03125, 0.25, 1.0, 1, 0.25, 1.0, 1.0, 1.0, 0.5, 1.0, 0.5, 0.25, 0.5, 0.25, 0.0001220703125, 1.0, 1.0, 0.5, 0.0625, 0.0625, 1, 0.015625, 0.25, 0.5, 0.25, 1.0, 2, 0.03125, 0.25, 0.5, 0.5, 0.5, 0.0625, 0.25, 0.03125, 0.03125, 0.125, 0.0625, 0.25, 0.5, 1, 0.5, 0.25, 0.25]\n"
     ]
    }
   ],
   "source": [
    "# Run Breast Cancer Through\n",
    "attributes_breast_cancer = [2,3,4,5,6,7,8,9,10,11,12,13,14,15,16,17,18,19,20,21,22,23,24,25,26,27,28,29,30,31,32,33,34,35,36,37,38,39,40,41,42,43,44,45,46,47,48,49,50,51,52,53,54,55,56,57,58,59,60,61,62,63,64,65,66,67,68,69,70,71,72,73,74,75,76,77,78,79,80,81,82,83,84,85,86,87,88,89,90]\n",
    "winnow_2_breast_cancer = [1,1,1,1,1,1,1,1,1,1,1,1,1,1,1,1,1,1,1,1,1,1,1,1,1,1,1,1,1,1,1,1,1,1,1,1,1,1,1,1,1,1,1,1,1,1,1,1,1,1,1,1,1,1,1,1,1,1,1,1,1,1,1,1,1,1,1,1,1,1,1,1,1,1,1,1,1,1,1,1,1,1,1,1,1,1,1,1,1]\n",
    "print(\"winnow-2 Breast Cancer model:\")\n",
    "winnow_2_accuracy, winnow_2_precision, winnow_2_specificity, winnow_2_recall = winnow_2(breast_cancer, 3, 0, attributes_breast_cancer, 4, 2, winnow_2_breast_cancer)"
   ]
  },
  {
   "cell_type": "markdown",
   "metadata": {},
   "source": [
    "Naive Bayes"
   ]
  },
  {
   "cell_type": "code",
   "execution_count": 32,
   "metadata": {},
   "outputs": [
    {
     "name": "stdout",
     "output_type": "stream",
     "text": [
      "Naive Bayes Breast Cancer model:\n",
      "[[0.29978118161925604, 0.9855797101449275, 0.9783333333333333, 0.9421014492753622, 0.9203623188405797, 0.8189130434782609, 0.9131159420289855, 0.9058695652173914, 0.8116666666666668, 0.9493478260869564, 0.7102173913043479, 0.971086956521739, 0.971086956521739, 0.9276086956521739, 0.8334057971014494, 0.9131159420289855, 0.8841304347826088, 0.9203623188405797, 0.855144927536232, 0.971086956521739, 0.6884782608695652, 0.9855797101449275, 0.9638405797101448, 0.8986231884057971, 0.855144927536232, 0.8986231884057971, 0.8768840579710145, 0.8913768115942029, 0.8768840579710145, 0.9638405797101448, 0.7247101449275363, 0.8841304347826088, 0.8913768115942029, 0.9131159420289855, 0.9203623188405797, 0.8841304347826088, 0.9203623188405797, 0.9348550724637681, 0.8841304347826088, 0.9783333333333333, 0.7247101449275363, 0.9928260869565216, 0.9058695652173914, 0.789927536231884, 0.7826811594202899, 0.855144927536232, 0.8334057971014494, 0.9565942028985507, 0.9421014492753622, 0.9855797101449275, 0.8913768115942029, 0.9421014492753622, 0.9565942028985507, 0.9348550724637681, 0.9276086956521739, 0.9276086956521739, 0.9783333333333333, 0.9783333333333333, 0.9493478260869564, 0.971086956521739, 0.36963768115942025, 0.9855797101449275, 0.971086956521739, 0.8623913043478261, 0.8696376811594203, 0.8841304347826088, 0.9565942028985507, 0.7247101449275363, 0.8768840579710145, 0.9421014492753622, 0.8623913043478261, 0.8261594202898551, 0.9638405797101448, 0.8334057971014494, 0.9276086956521739, 0.9203623188405797, 0.9131159420289855, 0.9421014492753622, 0.9203623188405797, 0.9565942028985507, 0.7319565217391305, 0.4203623188405797, 0.8768840579710145, 0.8696376811594203, 0.9421014492753622, 0.9783333333333333, 0.9855797101449275, 0.971086956521739, 0.9638405797101448, 0.9348550724637681], [0, 0.007318840579710145, 0.014565217391304347, 0.050797101449275364, 0.07253623188405797, 0.17398550724637682, 0.07978260869565217, 0.08702898550724637, 0.18123188405797103, 0.04355072463768116, 0.2826811594202898, 0.02181159420289855, 0.02181159420289855, 0.06528985507246376, 0.1594927536231884, 0.07978260869565217, 0.10876811594202898, 0.07253623188405797, 0.1377536231884058, 0.02181159420289855, 0.30442028985507247, 0.007318840579710145, 0.029057971014492753, 0.09427536231884058, 0.1377536231884058, 0.09427536231884058, 0.1160144927536232, 0.10152173913043479, 0.1160144927536232, 0.029057971014492753, 0.26818840579710146, 0.10876811594202898, 0.10152173913043479, 0.07978260869565217, 0.07253623188405797, 0.10876811594202898, 0.07253623188405797, 0.058043478260869565, 0.10876811594202898, 0.014565217391304347, 0.26818840579710146, 7.246376811594203e-05, 0.08702898550724637, 0.20297101449275362, 0.21021739130434783, 0.1377536231884058, 0.1594927536231884, 0.036304347826086956, 0.050797101449275364, 0.007318840579710145, 0.10152173913043479, 0.050797101449275364, 0.036304347826086956, 0.058043478260869565, 0.06528985507246376, 0.06528985507246376, 0.014565217391304347, 0.014565217391304347, 0.04355072463768116, 0.02181159420289855, 0.6232608695652174, 0.007318840579710145, 0.02181159420289855, 0.1305072463768116, 0.1232608695652174, 0.10876811594202898, 0.036304347826086956, 0.26818840579710146, 0.1160144927536232, 0.050797101449275364, 0.1305072463768116, 0.1667391304347826, 0.029057971014492753, 0.1594927536231884, 0.06528985507246376, 0.07253623188405797, 0.07978260869565217, 0.050797101449275364, 0.07253623188405797, 0.036304347826086956, 0.2609420289855072, 0.572536231884058, 0.1160144927536232, 0.1232608695652174, 0.050797101449275364, 0.014565217391304347, 0.007318840579710145, 0.02181159420289855, 0.029057971014492753, 0.058043478260869565], [0.700218818380744, 0.7196573208722741, 0.9096884735202492, 0.7757320872274143, 0.8442679127725856, 0.7788473520249221, 0.9657632398753894, 0.9938006230529595, 0.9906853582554517, 0.9969158878504673, 0.9969158878504673, 0.18071651090342677, 0.9096884735202492, 0.9283800623052959, 0.9782242990654205, 0.9969158878504673, 0.9969158878504673, 0.9938006230529595, 0.9969158878504673, 0.9938006230529595, 0.9969158878504673, 0.24925233644859815, 0.8660747663551401, 0.9252647975077881, 0.9688785046728972, 0.9906853582554517, 0.9906853582554517, 0.9906853582554517, 0.9969158878504673, 0.9969158878504673, 0.9969158878504673, 0.19629283489096572, 0.9190342679127725, 0.9096884735202492, 0.9844548286604361, 0.9906853582554517, 0.9875700934579439, 0.9969158878504673, 0.9969158878504673, 0.9969158878504673, 0.9938006230529595, 0.9065732087227414, 0.20252336448598132, 0.9252647975077881, 0.9813395638629283, 0.9813395638629283, 0.9938006230529595, 0.9938006230529595, 0.9938006230529595, 0.9969158878504673, 0.9969158878504673, 0.10595015576323986, 0.9657632398753894, 0.971993769470405, 0.9813395638629283, 0.971993769470405, 0.9969158878504673, 0.9969158878504673, 0.9906853582554517, 0.9969158878504673, 0.9938006230529595, 0.5919314641744547, 0.632429906542056, 0.8006542056074766, 0.9782242990654205, 0.9906853582554517, 0.9938006230529595, 0.9938006230529595, 0.9969158878504673, 0.9969158878504673, 0.9969158878504673, 0.1215264797507788, 0.9283800623052959, 0.971993769470405, 0.9938006230529595, 0.9906853582554517, 0.9844548286604361, 0.9938006230529595, 0.9938006230529595, 0.9969158878504673, 0.9969158878504673, 0.024953271028037384, 0.9813395638629283, 0.9906853582554517, 0.9969158878504673, 0.9969158878504673, 0.9969158878504673, 0.9969158878504673, 0.9938006230529595, 0.9969158878504673], [0, 0.2772897196261682, 0.08725856697819315, 0.22121495327102805, 0.15267912772585668, 0.21809968847352026, 0.031183800623052958, 0.003146417445482866, 0.006261682242990654, 3.115264797507788e-05, 3.115264797507788e-05, 0.8162305295950155, 0.08725856697819315, 0.06856697819314642, 0.018722741433021807, 3.115264797507788e-05, 3.115264797507788e-05, 0.003146417445482866, 3.115264797507788e-05, 0.003146417445482866, 3.115264797507788e-05, 0.7476947040498442, 0.1308722741433022, 0.0716822429906542, 0.02806853582554517, 0.006261682242990654, 0.006261682242990654, 0.006261682242990654, 3.115264797507788e-05, 3.115264797507788e-05, 3.115264797507788e-05, 0.8006542056074766, 0.07791277258566978, 0.08725856697819315, 0.01249221183800623, 0.006261682242990654, 0.009376947040498441, 3.115264797507788e-05, 3.115264797507788e-05, 3.115264797507788e-05, 0.003146417445482866, 0.09037383177570094, 0.794423676012461, 0.0716822429906542, 0.015607476635514018, 0.015607476635514018, 0.003146417445482866, 0.003146417445482866, 0.003146417445482866, 3.115264797507788e-05, 3.115264797507788e-05, 0.8909968847352024, 0.031183800623052958, 0.024953271028037384, 0.015607476635514018, 0.024953271028037384, 3.115264797507788e-05, 3.115264797507788e-05, 0.006261682242990654, 3.115264797507788e-05, 0.003146417445482866, 0.4050155763239875, 0.3645171339563863, 0.19629283489096572, 0.018722741433021807, 0.006261682242990654, 0.003146417445482866, 0.003146417445482866, 3.115264797507788e-05, 3.115264797507788e-05, 3.115264797507788e-05, 0.8754205607476635, 0.06856697819314642, 0.024953271028037384, 0.003146417445482866, 0.006261682242990654, 0.01249221183800623, 0.003146417445482866, 0.003146417445482866, 3.115264797507788e-05, 3.115264797507788e-05, 0.971993769470405, 0.015607476635514018, 0.006261682242990654, 3.115264797507788e-05, 3.115264797507788e-05, 3.115264797507788e-05, 3.115264797507788e-05, 0.003146417445482866, 3.115264797507788e-05]]\n"
     ]
    }
   ],
   "source": [
    "# Run Breast Cancer Through\n",
    "naive_bayes_breast_cancer=[[0,0,0,0,0,0,0,0,0,0,0,0,0,0,0,0,0,0,0,0,0,0,0,0,0,0,0,0,0,0,0,0,0,0,0,0,0,0,0,0,0,0,0,0,0,0,0,0,0,0,0,0,0,0,0,0,0,0,0,0,0,0,0,0,0,0,0,0,0,0,0,0,0,0,0,0,0,0,0,0,0,0,0,0,0,0,0,0,0,0],[0,0,0,0,0,0,0,0,0,0,0,0,0,0,0,0,0,0,0,0,0,0,0,0,0,0,0,0,0,0,0,0,0,0,0,0,0,0,0,0,0,0,0,0,0,0,0,0,0,0,0,0,0,0,0,0,0,0,0,0,0,0,0,0,0,0,0,0,0,0,0,0,0,0,0,0,0,0,0,0,0,0,0,0,0,0,0,0,0,0],[0,0,0,0,0,0,0,0,0,0,0,0,0,0,0,0,0,0,0,0,0,0,0,0,0,0,0,0,0,0,0,0,0,0,0,0,0,0,0,0,0,0,0,0,0,0,0,0,0,0,0,0,0,0,0,0,0,0,0,0,0,0,0,0,0,0,0,0,0,0,0,0,0,0,0,0,0,0,0,0,0,0,0,0,0,0,0,0,0,0],[0,0,0,0,0,0,0,0,0,0,0,0,0,0,0,0,0,0,0,0,0,0,0,0,0,0,0,0,0,0,0,0,0,0,0,0,0,0,0,0,0,0,0,0,0,0,0,0,0,0,0,0,0,0,0,0,0,0,0,0,0,0,0,0,0,0,0,0,0,0,0,0,0,0,0,0,0,0,0,0,0,0,0,0,0,0,0,0,0,0]]\n",
    "print(\"Naive Bayes Breast Cancer model:\")\n",
    "naive_bayes_accuracy, naive_bayes_precision, naive_bayes_specificity, naive_bayes_recall = naive_bayes(breast_cancer, 3, 0, attributes_breast_cancer, naive_bayes_breast_cancer)"
   ]
  },
  {
   "cell_type": "markdown",
   "metadata": {},
   "source": [
    "Results"
   ]
  },
  {
   "cell_type": "code",
   "execution_count": 33,
   "metadata": {},
   "outputs": [
    {
     "name": "stdout",
     "output_type": "stream",
     "text": [
      "Winnow Results: accuracy, precision, specificity, recall\n",
      "[0.9652173913043478] [0.9668874172185431] [0.9382716049382716] [0.9798657718120806]\n",
      "Naive-Bayes Results: accuracy, precision, specificity, recall\n",
      "[0.9608695652173913] [0.9932885906040269] [0.9864864864864865] [0.9487179487179487]\n"
     ]
    }
   ],
   "source": [
    "print(\"Winnow Results: accuracy, precision, specificity, recall\")\n",
    "print(winnow_2_accuracy, winnow_2_precision, winnow_2_specificity, winnow_2_recall)\n",
    "print(\"Naive-Bayes Results: accuracy, precision, specificity, recall\")\n",
    "print(naive_bayes_accuracy, naive_bayes_precision, naive_bayes_specificity, naive_bayes_recall)"
   ]
  }
 ],
 "metadata": {
  "kernelspec": {
   "display_name": "Python 3",
   "language": "python",
   "name": "python3"
  },
  "language_info": {
   "codemirror_mode": {
    "name": "ipython",
    "version": 3
   },
   "file_extension": ".py",
   "mimetype": "text/x-python",
   "name": "python",
   "nbconvert_exporter": "python",
   "pygments_lexer": "ipython3",
   "version": "3.7.4"
  }
 },
 "nbformat": 4,
 "nbformat_minor": 2
}
