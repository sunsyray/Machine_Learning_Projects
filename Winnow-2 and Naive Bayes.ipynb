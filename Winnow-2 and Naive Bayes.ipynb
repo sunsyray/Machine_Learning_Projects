{
 "cells": [
  {
   "cell_type": "code",
   "execution_count": 1,
   "metadata": {},
   "outputs": [],
   "source": [
    "import pandas as pd\n",
    "import random\n",
    "import numpy as np\n",
    "\n",
    "\n",
    "# This code performs 2 algorithms, Winnow-2 and Naive Bayes, on 3 datasets\n",
    "# The datasets can be found in the UCI Machine Learning Repository https://archive.ics.uci.edu/ml/index.php"
   ]
  },
  {
   "cell_type": "markdown",
   "metadata": {},
   "source": [
    "[Datasets](#Datasets):\n",
    "\n",
    "[Iris](#Iris)- 3 classes    \n",
    "[Glass](#Glass)- 7 classes  \n",
    "[Breast Cancer](#Breast_Cancer)- 2 classes  \n",
    "\n",
    "[Test Splits](#Test_Splits)  \n",
    "[Winnow-2](#Winnow)  \n",
    "[Naive Bayes](#Naive_Bayes)  \n",
    "[Models](#Models)  "
   ]
  },
  {
   "cell_type": "markdown",
   "metadata": {},
   "source": [
    "<a id=\"Datasets\"></a>\n",
    "# Datasets\n",
    "\n",
    "First we perform EDA on all Datasets\n",
    "\n",
    "<a id=\"Iris\"></a>\n",
    "## Iris"
   ]
  },
  {
   "cell_type": "code",
   "execution_count": 2,
   "metadata": {},
   "outputs": [],
   "source": [
    "iris = pd.read_csv( \"iris.data\", header=None, names = ['sepal_length', 'sepal_width', 'petal_length', 'petal_width','iris_class'])"
   ]
  },
  {
   "cell_type": "code",
   "execution_count": 3,
   "metadata": {},
   "outputs": [
    {
     "name": "stdout",
     "output_type": "stream",
     "text": [
      "<class 'pandas.core.frame.DataFrame'>\n",
      "RangeIndex: 150 entries, 0 to 149\n",
      "Data columns (total 5 columns):\n",
      "sepal_length    150 non-null float64\n",
      "sepal_width     150 non-null float64\n",
      "petal_length    150 non-null float64\n",
      "petal_width     150 non-null float64\n",
      "iris_class      150 non-null object\n",
      "dtypes: float64(4), object(1)\n",
      "memory usage: 6.0+ KB\n"
     ]
    }
   ],
   "source": [
    "iris.info()"
   ]
  },
  {
   "cell_type": "code",
   "execution_count": 4,
   "metadata": {},
   "outputs": [
    {
     "data": {
      "text/plain": [
       "sepal_length    0\n",
       "sepal_width     0\n",
       "petal_length    0\n",
       "petal_width     0\n",
       "iris_class      0\n",
       "dtype: int64"
      ]
     },
     "execution_count": 4,
     "metadata": {},
     "output_type": "execute_result"
    }
   ],
   "source": [
    "iris.isna().sum()"
   ]
  },
  {
   "cell_type": "code",
   "execution_count": 5,
   "metadata": {},
   "outputs": [
    {
     "data": {
      "text/plain": [
       "Iris-versicolor    0.333333\n",
       "Iris-setosa        0.333333\n",
       "Iris-virginica     0.333333\n",
       "Name: iris_class, dtype: float64"
      ]
     },
     "execution_count": 5,
     "metadata": {},
     "output_type": "execute_result"
    }
   ],
   "source": [
    "iris.iris_class.value_counts(normalize = True)"
   ]
  },
  {
   "cell_type": "markdown",
   "metadata": {},
   "source": [
    "3 classes"
   ]
  },
  {
   "cell_type": "code",
   "execution_count": 6,
   "metadata": {},
   "outputs": [
    {
     "data": {
      "text/plain": [
       "6    0.453333\n",
       "5    0.313333\n",
       "7    0.160000\n",
       "8    0.040000\n",
       "4    0.033333\n",
       "Name: sepal_length, dtype: float64"
      ]
     },
     "execution_count": 6,
     "metadata": {},
     "output_type": "execute_result"
    }
   ],
   "source": [
    "iris = pd.concat([iris, pd.get_dummies(iris[\"iris_class\"])], axis=1)\n",
    "iris.sepal_length = iris.sepal_length.round(0)\n",
    "iris.sepal_length = iris.sepal_length.astype(int)\n",
    "iris.sepal_length.value_counts(normalize = True)"
   ]
  },
  {
   "cell_type": "code",
   "execution_count": 7,
   "metadata": {},
   "outputs": [],
   "source": [
    "iris = pd.concat([iris, pd.get_dummies(iris[\"sepal_length\"],prefix = 'sepal_length_')], axis=1)"
   ]
  },
  {
   "cell_type": "code",
   "execution_count": 8,
   "metadata": {},
   "outputs": [],
   "source": [
    "iris.sepal_width = iris.sepal_width.round(0)\n",
    "iris.sepal_width = iris.sepal_width.astype(int)\n",
    "iris.sepal_width.value_counts(normalize = True)\n",
    "iris = pd.concat([iris, pd.get_dummies(iris[\"sepal_width\"],prefix = 'sepal_width_')], axis=1)"
   ]
  },
  {
   "cell_type": "code",
   "execution_count": 9,
   "metadata": {},
   "outputs": [],
   "source": [
    "iris.petal_length = iris.petal_length.round(0)\n",
    "iris.petal_length = iris.petal_length.astype(int)\n",
    "iris.petal_length.value_counts(normalize = True)\n",
    "iris = pd.concat([iris, pd.get_dummies(iris[\"petal_length\"],prefix = 'petal_length_')], axis=1)"
   ]
  },
  {
   "cell_type": "code",
   "execution_count": 10,
   "metadata": {},
   "outputs": [],
   "source": [
    "iris.petal_width = iris.petal_width.round(0)\n",
    "iris.petal_width = iris.petal_width.astype(int)\n",
    "iris.petal_width.value_counts(normalize = True)\n",
    "iris = pd.concat([iris, pd.get_dummies(iris[\"petal_width\"],prefix = 'petal_width_')], axis=1)"
   ]
  },
  {
   "cell_type": "code",
   "execution_count": 11,
   "metadata": {},
   "outputs": [
    {
     "name": "stdout",
     "output_type": "stream",
     "text": [
      "<class 'pandas.core.frame.DataFrame'>\n",
      "RangeIndex: 150 entries, 0 to 149\n",
      "Data columns (total 21 columns):\n",
      "Iris-setosa        150 non-null uint8\n",
      "Iris-versicolor    150 non-null uint8\n",
      "Iris-virginica     150 non-null uint8\n",
      "sepal_length__4    150 non-null uint8\n",
      "sepal_length__5    150 non-null uint8\n",
      "sepal_length__6    150 non-null uint8\n",
      "sepal_length__7    150 non-null uint8\n",
      "sepal_length__8    150 non-null uint8\n",
      "sepal_width__2     150 non-null uint8\n",
      "sepal_width__3     150 non-null uint8\n",
      "sepal_width__4     150 non-null uint8\n",
      "petal_length__1    150 non-null uint8\n",
      "petal_length__2    150 non-null uint8\n",
      "petal_length__3    150 non-null uint8\n",
      "petal_length__4    150 non-null uint8\n",
      "petal_length__5    150 non-null uint8\n",
      "petal_length__6    150 non-null uint8\n",
      "petal_length__7    150 non-null uint8\n",
      "petal_width__0     150 non-null uint8\n",
      "petal_width__1     150 non-null uint8\n",
      "petal_width__2     150 non-null uint8\n",
      "dtypes: uint8(21)\n",
      "memory usage: 3.2 KB\n"
     ]
    }
   ],
   "source": [
    "iris = iris.drop(['sepal_length', 'sepal_width', 'petal_length', 'petal_width','iris_class'], axis=1)\n",
    "iris.info()"
   ]
  },
  {
   "cell_type": "code",
   "execution_count": 62,
   "metadata": {},
   "outputs": [
    {
     "data": {
      "text/html": [
       "<div>\n",
       "<style scoped>\n",
       "    .dataframe tbody tr th:only-of-type {\n",
       "        vertical-align: middle;\n",
       "    }\n",
       "\n",
       "    .dataframe tbody tr th {\n",
       "        vertical-align: top;\n",
       "    }\n",
       "\n",
       "    .dataframe thead th {\n",
       "        text-align: right;\n",
       "    }\n",
       "</style>\n",
       "<table border=\"1\" class=\"dataframe\">\n",
       "  <thead>\n",
       "    <tr style=\"text-align: right;\">\n",
       "      <th></th>\n",
       "      <th>Iris-setosa</th>\n",
       "      <th>Iris-versicolor</th>\n",
       "      <th>Iris-virginica</th>\n",
       "      <th>sepal_length__4</th>\n",
       "      <th>sepal_length__5</th>\n",
       "      <th>sepal_length__6</th>\n",
       "      <th>sepal_length__7</th>\n",
       "      <th>sepal_length__8</th>\n",
       "      <th>sepal_width__2</th>\n",
       "      <th>sepal_width__3</th>\n",
       "      <th>...</th>\n",
       "      <th>petal_length__1</th>\n",
       "      <th>petal_length__2</th>\n",
       "      <th>petal_length__3</th>\n",
       "      <th>petal_length__4</th>\n",
       "      <th>petal_length__5</th>\n",
       "      <th>petal_length__6</th>\n",
       "      <th>petal_length__7</th>\n",
       "      <th>petal_width__0</th>\n",
       "      <th>petal_width__1</th>\n",
       "      <th>petal_width__2</th>\n",
       "    </tr>\n",
       "  </thead>\n",
       "  <tbody>\n",
       "    <tr>\n",
       "      <td>0</td>\n",
       "      <td>1</td>\n",
       "      <td>0</td>\n",
       "      <td>0</td>\n",
       "      <td>0</td>\n",
       "      <td>1</td>\n",
       "      <td>0</td>\n",
       "      <td>0</td>\n",
       "      <td>0</td>\n",
       "      <td>0</td>\n",
       "      <td>0</td>\n",
       "      <td>...</td>\n",
       "      <td>1</td>\n",
       "      <td>0</td>\n",
       "      <td>0</td>\n",
       "      <td>0</td>\n",
       "      <td>0</td>\n",
       "      <td>0</td>\n",
       "      <td>0</td>\n",
       "      <td>1</td>\n",
       "      <td>0</td>\n",
       "      <td>0</td>\n",
       "    </tr>\n",
       "    <tr>\n",
       "      <td>1</td>\n",
       "      <td>1</td>\n",
       "      <td>0</td>\n",
       "      <td>0</td>\n",
       "      <td>0</td>\n",
       "      <td>1</td>\n",
       "      <td>0</td>\n",
       "      <td>0</td>\n",
       "      <td>0</td>\n",
       "      <td>0</td>\n",
       "      <td>1</td>\n",
       "      <td>...</td>\n",
       "      <td>1</td>\n",
       "      <td>0</td>\n",
       "      <td>0</td>\n",
       "      <td>0</td>\n",
       "      <td>0</td>\n",
       "      <td>0</td>\n",
       "      <td>0</td>\n",
       "      <td>1</td>\n",
       "      <td>0</td>\n",
       "      <td>0</td>\n",
       "    </tr>\n",
       "    <tr>\n",
       "      <td>2</td>\n",
       "      <td>1</td>\n",
       "      <td>0</td>\n",
       "      <td>0</td>\n",
       "      <td>0</td>\n",
       "      <td>1</td>\n",
       "      <td>0</td>\n",
       "      <td>0</td>\n",
       "      <td>0</td>\n",
       "      <td>0</td>\n",
       "      <td>1</td>\n",
       "      <td>...</td>\n",
       "      <td>1</td>\n",
       "      <td>0</td>\n",
       "      <td>0</td>\n",
       "      <td>0</td>\n",
       "      <td>0</td>\n",
       "      <td>0</td>\n",
       "      <td>0</td>\n",
       "      <td>1</td>\n",
       "      <td>0</td>\n",
       "      <td>0</td>\n",
       "    </tr>\n",
       "    <tr>\n",
       "      <td>3</td>\n",
       "      <td>1</td>\n",
       "      <td>0</td>\n",
       "      <td>0</td>\n",
       "      <td>0</td>\n",
       "      <td>1</td>\n",
       "      <td>0</td>\n",
       "      <td>0</td>\n",
       "      <td>0</td>\n",
       "      <td>0</td>\n",
       "      <td>1</td>\n",
       "      <td>...</td>\n",
       "      <td>0</td>\n",
       "      <td>1</td>\n",
       "      <td>0</td>\n",
       "      <td>0</td>\n",
       "      <td>0</td>\n",
       "      <td>0</td>\n",
       "      <td>0</td>\n",
       "      <td>1</td>\n",
       "      <td>0</td>\n",
       "      <td>0</td>\n",
       "    </tr>\n",
       "    <tr>\n",
       "      <td>4</td>\n",
       "      <td>1</td>\n",
       "      <td>0</td>\n",
       "      <td>0</td>\n",
       "      <td>0</td>\n",
       "      <td>1</td>\n",
       "      <td>0</td>\n",
       "      <td>0</td>\n",
       "      <td>0</td>\n",
       "      <td>0</td>\n",
       "      <td>0</td>\n",
       "      <td>...</td>\n",
       "      <td>1</td>\n",
       "      <td>0</td>\n",
       "      <td>0</td>\n",
       "      <td>0</td>\n",
       "      <td>0</td>\n",
       "      <td>0</td>\n",
       "      <td>0</td>\n",
       "      <td>1</td>\n",
       "      <td>0</td>\n",
       "      <td>0</td>\n",
       "    </tr>\n",
       "  </tbody>\n",
       "</table>\n",
       "<p>5 rows × 21 columns</p>\n",
       "</div>"
      ],
      "text/plain": [
       "   Iris-setosa  Iris-versicolor  Iris-virginica  sepal_length__4  \\\n",
       "0            1                0               0                0   \n",
       "1            1                0               0                0   \n",
       "2            1                0               0                0   \n",
       "3            1                0               0                0   \n",
       "4            1                0               0                0   \n",
       "\n",
       "   sepal_length__5  sepal_length__6  sepal_length__7  sepal_length__8  \\\n",
       "0                1                0                0                0   \n",
       "1                1                0                0                0   \n",
       "2                1                0                0                0   \n",
       "3                1                0                0                0   \n",
       "4                1                0                0                0   \n",
       "\n",
       "   sepal_width__2  sepal_width__3  ...  petal_length__1  petal_length__2  \\\n",
       "0               0               0  ...                1                0   \n",
       "1               0               1  ...                1                0   \n",
       "2               0               1  ...                1                0   \n",
       "3               0               1  ...                0                1   \n",
       "4               0               0  ...                1                0   \n",
       "\n",
       "   petal_length__3  petal_length__4  petal_length__5  petal_length__6  \\\n",
       "0                0                0                0                0   \n",
       "1                0                0                0                0   \n",
       "2                0                0                0                0   \n",
       "3                0                0                0                0   \n",
       "4                0                0                0                0   \n",
       "\n",
       "   petal_length__7  petal_width__0  petal_width__1  petal_width__2  \n",
       "0                0               1               0               0  \n",
       "1                0               1               0               0  \n",
       "2                0               1               0               0  \n",
       "3                0               1               0               0  \n",
       "4                0               1               0               0  \n",
       "\n",
       "[5 rows x 21 columns]"
      ]
     },
     "execution_count": 62,
     "metadata": {},
     "output_type": "execute_result"
    }
   ],
   "source": [
    "iris.head()"
   ]
  },
  {
   "cell_type": "markdown",
   "metadata": {},
   "source": [
    "<a id=\"Glass\"></a>\n",
    "## Glass"
   ]
  },
  {
   "cell_type": "code",
   "execution_count": 12,
   "metadata": {},
   "outputs": [],
   "source": [
    "glass = pd.read_csv( \"glass.data\", header=None, names = ['ID','RI','Na','Mg','Al','Si','K','Ca','Ba','Fe','glass_class'])"
   ]
  },
  {
   "cell_type": "code",
   "execution_count": 13,
   "metadata": {},
   "outputs": [
    {
     "name": "stdout",
     "output_type": "stream",
     "text": [
      "<class 'pandas.core.frame.DataFrame'>\n",
      "RangeIndex: 214 entries, 0 to 213\n",
      "Data columns (total 11 columns):\n",
      "ID             214 non-null int64\n",
      "RI             214 non-null float64\n",
      "Na             214 non-null float64\n",
      "Mg             214 non-null float64\n",
      "Al             214 non-null float64\n",
      "Si             214 non-null float64\n",
      "K              214 non-null float64\n",
      "Ca             214 non-null float64\n",
      "Ba             214 non-null float64\n",
      "Fe             214 non-null float64\n",
      "glass_class    214 non-null int64\n",
      "dtypes: float64(9), int64(2)\n",
      "memory usage: 18.5 KB\n"
     ]
    }
   ],
   "source": [
    "glass.info()"
   ]
  },
  {
   "cell_type": "code",
   "execution_count": 14,
   "metadata": {},
   "outputs": [
    {
     "data": {
      "text/plain": [
       "ID             0\n",
       "RI             0\n",
       "Na             0\n",
       "Mg             0\n",
       "Al             0\n",
       "Si             0\n",
       "K              0\n",
       "Ca             0\n",
       "Ba             0\n",
       "Fe             0\n",
       "glass_class    0\n",
       "dtype: int64"
      ]
     },
     "execution_count": 14,
     "metadata": {},
     "output_type": "execute_result"
    }
   ],
   "source": [
    "glass.isna().sum()"
   ]
  },
  {
   "cell_type": "code",
   "execution_count": 15,
   "metadata": {},
   "outputs": [
    {
     "data": {
      "text/plain": [
       "2    0.355140\n",
       "1    0.327103\n",
       "7    0.135514\n",
       "3    0.079439\n",
       "5    0.060748\n",
       "6    0.042056\n",
       "Name: glass_class, dtype: float64"
      ]
     },
     "execution_count": 15,
     "metadata": {},
     "output_type": "execute_result"
    }
   ],
   "source": [
    "glass.glass_class.value_counts(normalize = True)"
   ]
  },
  {
   "cell_type": "code",
   "execution_count": 16,
   "metadata": {},
   "outputs": [
    {
     "data": {
      "text/plain": [
       "1.52    0.929907\n",
       "1.53    0.037383\n",
       "1.51    0.032710\n",
       "Name: RI, dtype: float64"
      ]
     },
     "execution_count": 16,
     "metadata": {},
     "output_type": "execute_result"
    }
   ],
   "source": [
    "#round RI to 2 decimal places\n",
    "glass.RI = glass.RI.round(2)\n",
    "glass.RI.value_counts(normalize = True)"
   ]
  },
  {
   "cell_type": "code",
   "execution_count": 17,
   "metadata": {},
   "outputs": [
    {
     "data": {
      "text/plain": [
       "13.0    0.570093\n",
       "14.0    0.285047\n",
       "15.0    0.079439\n",
       "12.0    0.032710\n",
       "11.0    0.023364\n",
       "16.0    0.004673\n",
       "17.0    0.004673\n",
       "Name: Na, dtype: float64"
      ]
     },
     "execution_count": 17,
     "metadata": {},
     "output_type": "execute_result"
    }
   ],
   "source": [
    "glass = pd.concat([glass, pd.get_dummies(glass[\"RI\"],prefix = 'RI_')], axis=1)\n",
    "glass.Na = glass.Na.round(0)\n",
    "glass.Na.value_counts(normalize = True)"
   ]
  },
  {
   "cell_type": "code",
   "execution_count": 18,
   "metadata": {},
   "outputs": [
    {
     "data": {
      "text/plain": [
       "4.0    0.467290\n",
       "3.0    0.252336\n",
       "0.0    0.200935\n",
       "2.0    0.065421\n",
       "1.0    0.014019\n",
       "Name: Mg, dtype: float64"
      ]
     },
     "execution_count": 18,
     "metadata": {},
     "output_type": "execute_result"
    }
   ],
   "source": [
    "glass = pd.concat([glass, pd.get_dummies(glass[\"Na\"],prefix = 'Na_')], axis=1)\n",
    "glass.Mg = glass.Mg.round(0)\n",
    "glass.Mg.value_counts(normalize = True)"
   ]
  },
  {
   "cell_type": "code",
   "execution_count": 19,
   "metadata": {},
   "outputs": [
    {
     "data": {
      "text/plain": [
       "1.0    0.593458\n",
       "2.0    0.341121\n",
       "3.0    0.042056\n",
       "0.0    0.018692\n",
       "4.0    0.004673\n",
       "Name: Al, dtype: float64"
      ]
     },
     "execution_count": 19,
     "metadata": {},
     "output_type": "execute_result"
    }
   ],
   "source": [
    "glass = pd.concat([glass, pd.get_dummies(glass[\"Mg\"],prefix = 'Mg_')], axis=1)\n",
    "glass.Al = glass.Al.round(0)\n",
    "glass.Al.value_counts(normalize = True)"
   ]
  },
  {
   "cell_type": "code",
   "execution_count": 20,
   "metadata": {},
   "outputs": [
    {
     "data": {
      "text/plain": [
       "73.0    0.612150\n",
       "72.0    0.266355\n",
       "74.0    0.042056\n",
       "71.0    0.037383\n",
       "70.0    0.028037\n",
       "75.0    0.014019\n",
       "Name: Si, dtype: float64"
      ]
     },
     "execution_count": 20,
     "metadata": {},
     "output_type": "execute_result"
    }
   ],
   "source": [
    "glass = pd.concat([glass, pd.get_dummies(glass[\"Al\"],prefix = 'Al_')], axis=1)\n",
    "glass.Si = glass.Si.round(0)\n",
    "glass.Si.value_counts(normalize = True)"
   ]
  },
  {
   "cell_type": "code",
   "execution_count": 21,
   "metadata": {},
   "outputs": [
    {
     "data": {
      "text/plain": [
       "1.0    0.570093\n",
       "0.0    0.406542\n",
       "6.0    0.009346\n",
       "2.0    0.009346\n",
       "3.0    0.004673\n",
       "Name: K, dtype: float64"
      ]
     },
     "execution_count": 21,
     "metadata": {},
     "output_type": "execute_result"
    }
   ],
   "source": [
    "glass = pd.concat([glass, pd.get_dummies(glass[\"Si\"],prefix = 'Si_')], axis=1)\n",
    "glass.K = glass.K.round(0)\n",
    "glass.K.value_counts(normalize = True)"
   ]
  },
  {
   "cell_type": "code",
   "execution_count": 22,
   "metadata": {},
   "outputs": [
    {
     "data": {
      "text/plain": [
       "9.0     0.378505\n",
       "8.0     0.369159\n",
       "10.0    0.107477\n",
       "11.0    0.042056\n",
       "12.0    0.028037\n",
       "7.0     0.023364\n",
       "6.0     0.014019\n",
       "13.0    0.014019\n",
       "15.0    0.009346\n",
       "5.0     0.004673\n",
       "14.0    0.004673\n",
       "16.0    0.004673\n",
       "Name: Ca, dtype: float64"
      ]
     },
     "execution_count": 22,
     "metadata": {},
     "output_type": "execute_result"
    }
   ],
   "source": [
    "glass = pd.concat([glass, pd.get_dummies(glass[\"K\"],prefix = 'K_')], axis=1)\n",
    "glass.Ca = glass.Ca.round(0)\n",
    "glass.Ca.value_counts(normalize = True)"
   ]
  },
  {
   "cell_type": "code",
   "execution_count": 23,
   "metadata": {},
   "outputs": [
    {
     "data": {
      "text/plain": [
       "1.0    0.981308\n",
       "2.0    0.014019\n",
       "0.0    0.004673\n",
       "Name: Ca, dtype: float64"
      ]
     },
     "execution_count": 23,
     "metadata": {},
     "output_type": "execute_result"
    }
   ],
   "source": [
    "glass.Ca = glass.Ca *0.1\n",
    "glass.Ca = glass.Ca.round(0)\n",
    "glass.Ca.value_counts(normalize = True)"
   ]
  },
  {
   "cell_type": "code",
   "execution_count": 24,
   "metadata": {},
   "outputs": [
    {
     "data": {
      "text/plain": [
       "0.0    0.869159\n",
       "1.0    0.070093\n",
       "2.0    0.051402\n",
       "3.0    0.009346\n",
       "Name: Ba, dtype: float64"
      ]
     },
     "execution_count": 24,
     "metadata": {},
     "output_type": "execute_result"
    }
   ],
   "source": [
    "glass = pd.concat([glass, pd.get_dummies(glass[\"Ca\"],prefix = 'Ca_')], axis=1)\n",
    "glass.Ba = glass.Ba.round(0)\n",
    "glass.Ba.value_counts(normalize = True)"
   ]
  },
  {
   "cell_type": "code",
   "execution_count": 25,
   "metadata": {},
   "outputs": [
    {
     "data": {
      "text/plain": [
       "0.0    0.686916\n",
       "0.2    0.130841\n",
       "0.1    0.126168\n",
       "0.3    0.042056\n",
       "0.4    0.009346\n",
       "0.5    0.004673\n",
       "Name: Fe, dtype: float64"
      ]
     },
     "execution_count": 25,
     "metadata": {},
     "output_type": "execute_result"
    }
   ],
   "source": [
    "glass = pd.concat([glass, pd.get_dummies(glass[\"Ba\"],prefix = 'Ba_')], axis=1)\n",
    "glass.Fe = glass.Fe.round(1)\n",
    "glass.Fe.value_counts(normalize = True)"
   ]
  },
  {
   "cell_type": "code",
   "execution_count": 26,
   "metadata": {},
   "outputs": [],
   "source": [
    "glass = pd.concat([glass, pd.get_dummies(glass[\"Fe\"],prefix = 'Fe_')], axis=1)\n",
    "glass = pd.concat([glass, pd.get_dummies(glass[\"glass_class\"],prefix = 'glass_class_')], axis=1)"
   ]
  },
  {
   "cell_type": "code",
   "execution_count": 27,
   "metadata": {},
   "outputs": [
    {
     "name": "stdout",
     "output_type": "stream",
     "text": [
      "<class 'pandas.core.frame.DataFrame'>\n",
      "RangeIndex: 214 entries, 0 to 213\n",
      "Data columns (total 50 columns):\n",
      "RI__1.51          214 non-null uint8\n",
      "RI__1.52          214 non-null uint8\n",
      "RI__1.53          214 non-null uint8\n",
      "Na__11.0          214 non-null uint8\n",
      "Na__12.0          214 non-null uint8\n",
      "Na__13.0          214 non-null uint8\n",
      "Na__14.0          214 non-null uint8\n",
      "Na__15.0          214 non-null uint8\n",
      "Na__16.0          214 non-null uint8\n",
      "Na__17.0          214 non-null uint8\n",
      "Mg__0.0           214 non-null uint8\n",
      "Mg__1.0           214 non-null uint8\n",
      "Mg__2.0           214 non-null uint8\n",
      "Mg__3.0           214 non-null uint8\n",
      "Mg__4.0           214 non-null uint8\n",
      "Al__0.0           214 non-null uint8\n",
      "Al__1.0           214 non-null uint8\n",
      "Al__2.0           214 non-null uint8\n",
      "Al__3.0           214 non-null uint8\n",
      "Al__4.0           214 non-null uint8\n",
      "Si__70.0          214 non-null uint8\n",
      "Si__71.0          214 non-null uint8\n",
      "Si__72.0          214 non-null uint8\n",
      "Si__73.0          214 non-null uint8\n",
      "Si__74.0          214 non-null uint8\n",
      "Si__75.0          214 non-null uint8\n",
      "K__0.0            214 non-null uint8\n",
      "K__1.0            214 non-null uint8\n",
      "K__2.0            214 non-null uint8\n",
      "K__3.0            214 non-null uint8\n",
      "K__6.0            214 non-null uint8\n",
      "Ca__0.0           214 non-null uint8\n",
      "Ca__1.0           214 non-null uint8\n",
      "Ca__2.0           214 non-null uint8\n",
      "Ba__0.0           214 non-null uint8\n",
      "Ba__1.0           214 non-null uint8\n",
      "Ba__2.0           214 non-null uint8\n",
      "Ba__3.0           214 non-null uint8\n",
      "Fe__0.0           214 non-null uint8\n",
      "Fe__0.1           214 non-null uint8\n",
      "Fe__0.2           214 non-null uint8\n",
      "Fe__0.3           214 non-null uint8\n",
      "Fe__0.4           214 non-null uint8\n",
      "Fe__0.5           214 non-null uint8\n",
      "glass_class__1    214 non-null uint8\n",
      "glass_class__2    214 non-null uint8\n",
      "glass_class__3    214 non-null uint8\n",
      "glass_class__5    214 non-null uint8\n",
      "glass_class__6    214 non-null uint8\n",
      "glass_class__7    214 non-null uint8\n",
      "dtypes: uint8(50)\n",
      "memory usage: 10.6 KB\n"
     ]
    }
   ],
   "source": [
    "glass = glass.drop(['ID', 'RI', 'Na', 'Mg','Al','Si','K','Ca','Ba','Fe','glass_class'], axis=1)\n",
    "glass.info()"
   ]
  },
  {
   "cell_type": "markdown",
   "metadata": {},
   "source": [
    "<a id=\"Breast_Cancer\"></a>\n",
    "## Breast Cancer"
   ]
  },
  {
   "cell_type": "code",
   "execution_count": 28,
   "metadata": {},
   "outputs": [],
   "source": [
    "breast_cancer = pd.read_csv( \"breast-cancer-wisconsin.data\", header=None, names = ['ID','clump_thick','unif_cell_size','unif_cell_shape','marg_adh','single_epit_cell_size','bare_nuclei','bland_chromatin','normal_nucleoli','mitosis','cancer_class'])"
   ]
  },
  {
   "cell_type": "code",
   "execution_count": 29,
   "metadata": {},
   "outputs": [
    {
     "name": "stdout",
     "output_type": "stream",
     "text": [
      "<class 'pandas.core.frame.DataFrame'>\n",
      "RangeIndex: 699 entries, 0 to 698\n",
      "Data columns (total 11 columns):\n",
      "ID                       699 non-null int64\n",
      "clump_thick              699 non-null int64\n",
      "unif_cell_size           699 non-null int64\n",
      "unif_cell_shape          699 non-null int64\n",
      "marg_adh                 699 non-null int64\n",
      "single_epit_cell_size    699 non-null int64\n",
      "bare_nuclei              699 non-null object\n",
      "bland_chromatin          699 non-null int64\n",
      "normal_nucleoli          699 non-null int64\n",
      "mitosis                  699 non-null int64\n",
      "cancer_class             699 non-null int64\n",
      "dtypes: int64(10), object(1)\n",
      "memory usage: 60.2+ KB\n"
     ]
    }
   ],
   "source": [
    "breast_cancer.info()"
   ]
  },
  {
   "cell_type": "code",
   "execution_count": 30,
   "metadata": {},
   "outputs": [
    {
     "data": {
      "text/plain": [
       "ID                       0\n",
       "clump_thick              0\n",
       "unif_cell_size           0\n",
       "unif_cell_shape          0\n",
       "marg_adh                 0\n",
       "single_epit_cell_size    0\n",
       "bare_nuclei              0\n",
       "bland_chromatin          0\n",
       "normal_nucleoli          0\n",
       "mitosis                  0\n",
       "cancer_class             0\n",
       "dtype: int64"
      ]
     },
     "execution_count": 30,
     "metadata": {},
     "output_type": "execute_result"
    }
   ],
   "source": [
    "breast_cancer.isna().sum()"
   ]
  },
  {
   "cell_type": "code",
   "execution_count": 31,
   "metadata": {},
   "outputs": [
    {
     "data": {
      "text/plain": [
       "1     402\n",
       "10    132\n",
       "5      30\n",
       "2      30\n",
       "3      28\n",
       "8      21\n",
       "4      19\n",
       "?      16\n",
       "9       9\n",
       "7       8\n",
       "6       4\n",
       "Name: bare_nuclei, dtype: int64"
      ]
     },
     "execution_count": 31,
     "metadata": {},
     "output_type": "execute_result"
    }
   ],
   "source": [
    "breast_cancer.bare_nuclei.value_counts()"
   ]
  },
  {
   "cell_type": "markdown",
   "metadata": {},
   "source": [
    "With 16 records with ? we can drop those invalid values and update the column to be int"
   ]
  },
  {
   "cell_type": "code",
   "execution_count": 32,
   "metadata": {},
   "outputs": [],
   "source": [
    "breast_cancer=breast_cancer[breast_cancer.bare_nuclei != '?']"
   ]
  },
  {
   "cell_type": "code",
   "execution_count": 33,
   "metadata": {},
   "outputs": [],
   "source": [
    "breast_cancer.bare_nuclei = breast_cancer.bare_nuclei.astype(int)"
   ]
  },
  {
   "cell_type": "code",
   "execution_count": 34,
   "metadata": {},
   "outputs": [
    {
     "name": "stdout",
     "output_type": "stream",
     "text": [
      "<class 'pandas.core.frame.DataFrame'>\n",
      "Int64Index: 683 entries, 0 to 698\n",
      "Data columns (total 11 columns):\n",
      "ID                       683 non-null int64\n",
      "clump_thick              683 non-null int64\n",
      "unif_cell_size           683 non-null int64\n",
      "unif_cell_shape          683 non-null int64\n",
      "marg_adh                 683 non-null int64\n",
      "single_epit_cell_size    683 non-null int64\n",
      "bare_nuclei              683 non-null int32\n",
      "bland_chromatin          683 non-null int64\n",
      "normal_nucleoli          683 non-null int64\n",
      "mitosis                  683 non-null int64\n",
      "cancer_class             683 non-null int64\n",
      "dtypes: int32(1), int64(10)\n",
      "memory usage: 61.4 KB\n"
     ]
    }
   ],
   "source": [
    "breast_cancer.info()"
   ]
  },
  {
   "cell_type": "code",
   "execution_count": 35,
   "metadata": {},
   "outputs": [
    {
     "data": {
      "text/plain": [
       "2    0.650073\n",
       "4    0.349927\n",
       "Name: cancer_class, dtype: float64"
      ]
     },
     "execution_count": 35,
     "metadata": {},
     "output_type": "execute_result"
    }
   ],
   "source": [
    "breast_cancer.cancer_class.value_counts(normalize = True)"
   ]
  },
  {
   "cell_type": "code",
   "execution_count": 36,
   "metadata": {},
   "outputs": [],
   "source": [
    "breast_cancer = pd.concat([breast_cancer, pd.get_dummies(breast_cancer[\"cancer_class\"],prefix = 'cancer_class_')], axis=1)"
   ]
  },
  {
   "cell_type": "code",
   "execution_count": 37,
   "metadata": {},
   "outputs": [],
   "source": [
    "breast_cancer = pd.concat([breast_cancer, pd.get_dummies(breast_cancer[\"clump_thick\"],prefix = 'clump_thick_')], axis=1)"
   ]
  },
  {
   "cell_type": "code",
   "execution_count": 38,
   "metadata": {},
   "outputs": [],
   "source": [
    "breast_cancer = pd.concat([breast_cancer, pd.get_dummies(breast_cancer[\"unif_cell_size\"],prefix = 'unif_cell_size_')], axis=1)"
   ]
  },
  {
   "cell_type": "code",
   "execution_count": 39,
   "metadata": {},
   "outputs": [],
   "source": [
    "breast_cancer = pd.concat([breast_cancer, pd.get_dummies(breast_cancer[\"unif_cell_shape\"],prefix = 'unif_cell_shape_')], axis=1)"
   ]
  },
  {
   "cell_type": "code",
   "execution_count": 40,
   "metadata": {},
   "outputs": [],
   "source": [
    "breast_cancer = pd.concat([breast_cancer, pd.get_dummies(breast_cancer[\"marg_adh\"],prefix = 'marg_adh_')], axis=1)"
   ]
  },
  {
   "cell_type": "code",
   "execution_count": 41,
   "metadata": {},
   "outputs": [],
   "source": [
    "breast_cancer = pd.concat([breast_cancer, pd.get_dummies(breast_cancer[\"single_epit_cell_size\"],prefix = 'single_epit_cell_size_')], axis=1)"
   ]
  },
  {
   "cell_type": "code",
   "execution_count": 42,
   "metadata": {},
   "outputs": [],
   "source": [
    "breast_cancer = pd.concat([breast_cancer, pd.get_dummies(breast_cancer[\"bare_nuclei\"],prefix = 'bare_nuclei_')], axis=1)"
   ]
  },
  {
   "cell_type": "code",
   "execution_count": 43,
   "metadata": {},
   "outputs": [],
   "source": [
    "breast_cancer = pd.concat([breast_cancer, pd.get_dummies(breast_cancer[\"bland_chromatin\"],prefix = 'bland_chromatin_')], axis=1)"
   ]
  },
  {
   "cell_type": "code",
   "execution_count": 44,
   "metadata": {},
   "outputs": [],
   "source": [
    "breast_cancer = pd.concat([breast_cancer, pd.get_dummies(breast_cancer[\"normal_nucleoli\"],prefix = 'normal_nucleoli_')], axis=1)"
   ]
  },
  {
   "cell_type": "code",
   "execution_count": 45,
   "metadata": {},
   "outputs": [],
   "source": [
    "breast_cancer = pd.concat([breast_cancer, pd.get_dummies(breast_cancer[\"mitosis\"],prefix = 'mitosis_')], axis=1)"
   ]
  },
  {
   "cell_type": "code",
   "execution_count": 46,
   "metadata": {},
   "outputs": [
    {
     "name": "stdout",
     "output_type": "stream",
     "text": [
      "<class 'pandas.core.frame.DataFrame'>\n",
      "Int64Index: 683 entries, 0 to 698\n",
      "Columns: 102 entries, ID to mitosis__10\n",
      "dtypes: int32(1), int64(10), uint8(91)\n",
      "memory usage: 122.1 KB\n"
     ]
    }
   ],
   "source": [
    "breast_cancer.info()"
   ]
  },
  {
   "cell_type": "code",
   "execution_count": 47,
   "metadata": {},
   "outputs": [],
   "source": [
    "breast_cancer = breast_cancer.drop(['ID', 'clump_thick', 'unif_cell_size', 'unif_cell_shape','marg_adh','single_epit_cell_size','bare_nuclei','bland_chromatin','normal_nucleoli','mitosis','cancer_class'], axis=1)"
   ]
  },
  {
   "cell_type": "code",
   "execution_count": 48,
   "metadata": {},
   "outputs": [
    {
     "name": "stdout",
     "output_type": "stream",
     "text": [
      "<class 'pandas.core.frame.DataFrame'>\n",
      "Int64Index: 683 entries, 0 to 698\n",
      "Data columns (total 91 columns):\n",
      "cancer_class__2              683 non-null uint8\n",
      "cancer_class__4              683 non-null uint8\n",
      "clump_thick__1               683 non-null uint8\n",
      "clump_thick__2               683 non-null uint8\n",
      "clump_thick__3               683 non-null uint8\n",
      "clump_thick__4               683 non-null uint8\n",
      "clump_thick__5               683 non-null uint8\n",
      "clump_thick__6               683 non-null uint8\n",
      "clump_thick__7               683 non-null uint8\n",
      "clump_thick__8               683 non-null uint8\n",
      "clump_thick__9               683 non-null uint8\n",
      "clump_thick__10              683 non-null uint8\n",
      "unif_cell_size__1            683 non-null uint8\n",
      "unif_cell_size__2            683 non-null uint8\n",
      "unif_cell_size__3            683 non-null uint8\n",
      "unif_cell_size__4            683 non-null uint8\n",
      "unif_cell_size__5            683 non-null uint8\n",
      "unif_cell_size__6            683 non-null uint8\n",
      "unif_cell_size__7            683 non-null uint8\n",
      "unif_cell_size__8            683 non-null uint8\n",
      "unif_cell_size__9            683 non-null uint8\n",
      "unif_cell_size__10           683 non-null uint8\n",
      "unif_cell_shape__1           683 non-null uint8\n",
      "unif_cell_shape__2           683 non-null uint8\n",
      "unif_cell_shape__3           683 non-null uint8\n",
      "unif_cell_shape__4           683 non-null uint8\n",
      "unif_cell_shape__5           683 non-null uint8\n",
      "unif_cell_shape__6           683 non-null uint8\n",
      "unif_cell_shape__7           683 non-null uint8\n",
      "unif_cell_shape__8           683 non-null uint8\n",
      "unif_cell_shape__9           683 non-null uint8\n",
      "unif_cell_shape__10          683 non-null uint8\n",
      "marg_adh__1                  683 non-null uint8\n",
      "marg_adh__2                  683 non-null uint8\n",
      "marg_adh__3                  683 non-null uint8\n",
      "marg_adh__4                  683 non-null uint8\n",
      "marg_adh__5                  683 non-null uint8\n",
      "marg_adh__6                  683 non-null uint8\n",
      "marg_adh__7                  683 non-null uint8\n",
      "marg_adh__8                  683 non-null uint8\n",
      "marg_adh__9                  683 non-null uint8\n",
      "marg_adh__10                 683 non-null uint8\n",
      "single_epit_cell_size__1     683 non-null uint8\n",
      "single_epit_cell_size__2     683 non-null uint8\n",
      "single_epit_cell_size__3     683 non-null uint8\n",
      "single_epit_cell_size__4     683 non-null uint8\n",
      "single_epit_cell_size__5     683 non-null uint8\n",
      "single_epit_cell_size__6     683 non-null uint8\n",
      "single_epit_cell_size__7     683 non-null uint8\n",
      "single_epit_cell_size__8     683 non-null uint8\n",
      "single_epit_cell_size__9     683 non-null uint8\n",
      "single_epit_cell_size__10    683 non-null uint8\n",
      "bare_nuclei__1               683 non-null uint8\n",
      "bare_nuclei__2               683 non-null uint8\n",
      "bare_nuclei__3               683 non-null uint8\n",
      "bare_nuclei__4               683 non-null uint8\n",
      "bare_nuclei__5               683 non-null uint8\n",
      "bare_nuclei__6               683 non-null uint8\n",
      "bare_nuclei__7               683 non-null uint8\n",
      "bare_nuclei__8               683 non-null uint8\n",
      "bare_nuclei__9               683 non-null uint8\n",
      "bare_nuclei__10              683 non-null uint8\n",
      "bland_chromatin__1           683 non-null uint8\n",
      "bland_chromatin__2           683 non-null uint8\n",
      "bland_chromatin__3           683 non-null uint8\n",
      "bland_chromatin__4           683 non-null uint8\n",
      "bland_chromatin__5           683 non-null uint8\n",
      "bland_chromatin__6           683 non-null uint8\n",
      "bland_chromatin__7           683 non-null uint8\n",
      "bland_chromatin__8           683 non-null uint8\n",
      "bland_chromatin__9           683 non-null uint8\n",
      "bland_chromatin__10          683 non-null uint8\n",
      "normal_nucleoli__1           683 non-null uint8\n",
      "normal_nucleoli__2           683 non-null uint8\n",
      "normal_nucleoli__3           683 non-null uint8\n",
      "normal_nucleoli__4           683 non-null uint8\n",
      "normal_nucleoli__5           683 non-null uint8\n",
      "normal_nucleoli__6           683 non-null uint8\n",
      "normal_nucleoli__7           683 non-null uint8\n",
      "normal_nucleoli__8           683 non-null uint8\n",
      "normal_nucleoli__9           683 non-null uint8\n",
      "normal_nucleoli__10          683 non-null uint8\n",
      "mitosis__1                   683 non-null uint8\n",
      "mitosis__2                   683 non-null uint8\n",
      "mitosis__3                   683 non-null uint8\n",
      "mitosis__4                   683 non-null uint8\n",
      "mitosis__5                   683 non-null uint8\n",
      "mitosis__6                   683 non-null uint8\n",
      "mitosis__7                   683 non-null uint8\n",
      "mitosis__8                   683 non-null uint8\n",
      "mitosis__10                  683 non-null uint8\n",
      "dtypes: uint8(91)\n",
      "memory usage: 66.0 KB\n"
     ]
    }
   ],
   "source": [
    "breast_cancer.info()"
   ]
  },
  {
   "cell_type": "code",
   "execution_count": null,
   "metadata": {},
   "outputs": [],
   "source": []
  },
  {
   "cell_type": "markdown",
   "metadata": {},
   "source": [
    "<a id=\"Test_Splits\"></a>\n",
    "## Split into Test and Training DataSets"
   ]
  },
  {
   "cell_type": "code",
   "execution_count": 49,
   "metadata": {},
   "outputs": [],
   "source": [
    "def winnow_2_n_fold_cross_val(data, n, target_class, attributes, threshold, alpha, model):\n",
    "    metrics= []\n",
    "    list_of_indices = list(range(len(data)))\n",
    "    k = len(data) #this is the number of records in the data\n",
    "    l = int(k/n) #this is the number of records in each test set\n",
    "\n",
    "    random.shuffle(list_of_indices)\n",
    "    splits = [list_of_indices[0:l-1]]\n",
    "\n",
    "    test = data.iloc[splits[0]]\n",
    "    training_indices = [index not in splits[0] for index in list_of_indices]\n",
    "    training = data.iloc[training_indices]\n",
    "    new_model = winnow_2_train(training, target_class, attributes, threshold, alpha, model)\n",
    "    output = winnow_2_test(test, target_class, attributes, threshold, new_model)\n",
    "        \n",
    "    print(new_model)\n",
    "    metrics.append(output)\n",
    "        \n",
    "    return metrics"
   ]
  },
  {
   "cell_type": "code",
   "execution_count": 50,
   "metadata": {},
   "outputs": [],
   "source": [
    "def naive_bayes_n_fold_cross_val(data, n, target_class, attributes, model):\n",
    "    metrics= []\n",
    "    list_of_indices = list(range(len(data)))\n",
    "    k = len(data) #this is the number of records in the data\n",
    "    l = int(k/n) #this is the number of records in each split\n",
    "    \n",
    "    random.shuffle(list_of_indices)\n",
    "    splits = [list_of_indices[0:l - 1]]\n",
    "    \n",
    "    test = data.iloc[splits[0]]\n",
    "    training_indices = [index not in splits[0] for index in list_of_indices]\n",
    "    training = data.iloc[training_indices]\n",
    "    new_model = naive_bayes_train(training, target_class, attributes, model)\n",
    "    output = naive_bayes_test(test, target_class, attributes, new_model)\n",
    "        \n",
    "    metrics.append(output)\n",
    "    print(new_model)\n",
    "    return metrics"
   ]
  },
  {
   "cell_type": "markdown",
   "metadata": {},
   "source": [
    "<a id=\"Winnow\"></a>\n",
    "## Winnow-2"
   ]
  },
  {
   "cell_type": "code",
   "execution_count": 51,
   "metadata": {},
   "outputs": [],
   "source": [
    "#target_class is the column # for the class you are checking\n",
    "#attributes should be a list with the column #s for the features in the data to check\n",
    "#threshold is used for model prediction\n",
    "#alpha is a parameter used to adjust the weights\n",
    "\n",
    "# Winnow-2 only works on 2 classes at a time. If your dataset has more classes, you will need to create boolean features \n",
    "# for each class in your dataset.\n",
    "\n",
    "# The model is a list of weights, one for each feature in the dataset\n",
    "# Predictions are made by taking the weighted sum of the features x weights, and comparing the result to a threshold theta\n",
    "# If the weighted sum is greater than theta, the prediction is 1, otherwise the prediction is 0\n",
    "\n",
    "# Weights are initialized to be all 1s\n",
    "# Alpha is a number above 1\n",
    "\n",
    "\n",
    "# Process:\n",
    "# 1. Receive data instance\n",
    "# 2. Make prediction for that instance (0 means not in class, 1 means in class)\n",
    "# 3. Check if the prediction was correct\n",
    "# 3.a. If correct, do nothing\n",
    "# 3.b. If not correct, update weights via promotion or demotion\n",
    "# Promotion- happens when the prediction is 0 but the correct class is 1\n",
    "#            For only features with a value of 1, multiply the weight for that feature times alpha\n",
    "# Demotion- happens when the prediction is 1 but the correct class is 0\n",
    "#            For only features with a value of 1, divide the weight for that feature by alpha\n",
    "\n",
    "\n",
    "def winnow_2_train(data, target_class, attributes, threshold, alpha, model):\n",
    "    num_records = len(data)\n",
    "    num_attributes = len(attributes)\n",
    "    new_model = model\n",
    "    \n",
    "    for record in range(num_records): #Loop through all records in data\n",
    "        #use model to predict class (pandas indexing starts at 0)\n",
    "        curr_record = data.iloc[[record]] #pull current record data\n",
    "        sum_weights = 0\n",
    "        for index in range(num_attributes): #Loop through each attribute and add the weights\n",
    "            sum_weights = sum_weights + new_model[index] * curr_record.iloc[0,attributes[index]]\n",
    "            \n",
    "        prediction = 0\n",
    "        if(sum_weights > threshold):\n",
    "            prediction = 1\n",
    "        #check if class is correct\n",
    "        #if class is correct -no action\n",
    "        #if class is not correct, determine if promotion (predict 0 when correct is 1) or demotion (predict 1 when correct is 0)\n",
    "        if(prediction == 0):\n",
    "            if(curr_record.iloc[0,target_class]==1):\n",
    "                #promoting only adjusts weights for attributes that have a value of 1 - wi * alpha\n",
    "                for index in range(num_attributes):\n",
    "                    if(curr_record.iloc[0,attributes[index]] == 1):\n",
    "                        model[index] = model[index]*alpha\n",
    "                \n",
    "        else:\n",
    "            if(curr_record.iloc[0,target_class]==0):\n",
    "                #demoting only adjusts weights for attributes that have a value of 1 - wi / alpha\n",
    "                for index in range(num_attributes):\n",
    "                    if(curr_record.iloc[0,attributes[index]] == 1):\n",
    "                        model[index] = model[index]/alpha\n",
    "       \n",
    "    return new_model\n",
    "                "
   ]
  },
  {
   "cell_type": "code",
   "execution_count": 52,
   "metadata": {},
   "outputs": [],
   "source": [
    "def winnow_2_test(data, target_class, attributes,threshold, model):\n",
    "    num_records = len(data)\n",
    "    num_attributes = len(attributes)\n",
    "    metric = 0\n",
    "    \n",
    "    for record in range(num_records): #Loop through all records in data\n",
    "        #use model to predict class (pandas indexing starts at 0)\n",
    "        curr_record = data.iloc[[record]] #pull current record data\n",
    "        sum_weights = 0\n",
    "        for index in range(num_attributes): #Loop through each attribute and add the weights\n",
    "            sum_weights = sum_weights + model[index] * curr_record.iloc[0,attributes[index]]\n",
    "            \n",
    "        prediction = 0\n",
    "        if(sum_weights > threshold):\n",
    "            prediction = 1\n",
    "        #check if class is correct\n",
    "        #if class is correct add 1 to metric \n",
    "        #if class is not correct, do nothing\n",
    "\n",
    "        if(prediction == 0):\n",
    "            if(curr_record.iloc[0,target_class]==0):\n",
    "                metric = metric +1\n",
    "                \n",
    "        else:\n",
    "            if(curr_record.iloc[0,target_class]==1):\n",
    "                metric = metric +1\n",
    "\n",
    "    return metric/num_records\n",
    "    \n",
    "    \n",
    "    "
   ]
  },
  {
   "cell_type": "markdown",
   "metadata": {},
   "source": [
    "<a id=\"Naive_Bayes\"></a>\n",
    "## Naive Bayes"
   ]
  },
  {
   "cell_type": "code",
   "execution_count": 53,
   "metadata": {},
   "outputs": [],
   "source": [
    "#target_class is the column # for the class you are checking\n",
    "#attributes should be a list with the column #s for the features in the data to check\n",
    "\n",
    "# Naive Bayes can work for multiple classes at a time, however for the purposes of comparing to Winnow-2 we will keep the\n",
    "# boolean attributes for each class.\n",
    "# The purpose of the algorithm is to find the class that maximizes the posterior probability of that class given the data.\n",
    "# It does this using Bayes Rule- P(c|f1,f2,...,fd)= P(f1,f2,...,fd|c)*P(c)/P(f1,f2,...,fd)\n",
    "# with the assumption that the features are conditionally independent of eachother given the classes, this becomes\n",
    "# P(c|f1,f2,...,fd)= P(f1|c)*P(f2|c)*...*P(fd|c)*P(c)/P(f1,f2,...,fd)\n",
    "# The Naive Bayes Classifier is the argmax of this, which is (the denominator does not matter because it does not depend on c):\n",
    "# class=argmax_c(P(c)*Product_i=1-d(P(fi|d)))\n",
    "\n",
    "# Some negatives for using Naive Bayes is the assumption that all of the features are conditionally independent of eachother\n",
    "# given the classes\n",
    "\n",
    "\n",
    "def naive_bayes_train(data, target_class, attributes, model):\n",
    "    num_records = len(data)\n",
    "    num_attributes = len(attributes)\n",
    "    new_model = model\n",
    "    count_1s = 1\n",
    "    count_0s = 1\n",
    "    \n",
    "    #Model of form\n",
    "    # P(0) / P(xi = 0)\n",
    "    # ---- / P(xi = 1)\n",
    "    # P(1) / P(xi = 0)\n",
    "    # ---- / P(xi = 1)\n",
    "    for record in range(num_records): #Loop through all records in data\n",
    "        #add 1 to model for every datapoint \n",
    "        curr_record = data.iloc[[record]] #pull current record data\n",
    "        #first add for when target_class = 1\n",
    "        if(curr_record.iloc[0,target_class]==1):\n",
    "            for index in range(num_attributes): #Loop through each attribute\n",
    "                if(curr_record.iloc[0,attributes[index]]==1):\n",
    "                    new_model[3][index+1] = new_model[3][index+1] +1\n",
    "                else:\n",
    "                    new_model[2][index+1] = new_model[2][index+1] +1\n",
    "            new_model[2][0] = new_model[2][0] +1\n",
    "            count_1s = count_1s +1\n",
    "                \n",
    "        #then add for when target_class = 0\n",
    "        else:\n",
    "            for index in range(num_attributes): #Loop through each attribute  \n",
    "                if(curr_record.iloc[0,attributes[index]]==0):\n",
    "                    new_model[0][index+1] = new_model[0][index+1] +1\n",
    "                else:\n",
    "                    new_model[1][index+1]= new_model[1][index+1] +1\n",
    "            new_model[0][0] = new_model[0][0] +1\n",
    "            count_0s = count_0s+1\n",
    "    \n",
    "    \n",
    "    \n",
    "    new_model[0][0] = new_model[0][0] / num_records\n",
    "    new_model[2][0] = new_model[2][0] / num_records\n",
    "    \n",
    "    for index in range(num_attributes):\n",
    "        new_model[0][index+1] = (new_model[0][index+1] + 0.01) / count_0s\n",
    "        new_model[1][index+1] = (new_model[1][index+1] + 0.01) / count_0s\n",
    "        new_model[2][index+1] = (new_model[2][index+1] + 0.01) / count_1s\n",
    "        new_model[3][index+1] = (new_model[3][index+1] + 0.01) / count_1s\n",
    "    \n",
    "    return new_model"
   ]
  },
  {
   "cell_type": "code",
   "execution_count": 54,
   "metadata": {},
   "outputs": [],
   "source": [
    "def naive_bayes_test(data, target_class, attributes, model):\n",
    "    num_records = len(data)\n",
    "    num_attributes = len(attributes)\n",
    "    count_correct = 0\n",
    "    metric = 0\n",
    "\n",
    "    #Model of form\n",
    "    # P(0) / P(xi = 0)\n",
    "    # ---- / P(xi = 1)\n",
    "    # P(1) / P(xi = 0)\n",
    "    # ---- / P(xi = 1)\n",
    "    for record in range(num_records): #Loop through all records in data\n",
    "        curr_record = data.iloc[[record]] #pull current record data\n",
    "        p_0 = model[0][0]\n",
    "        p_1 = model[2][0]\n",
    "        for index in range(num_attributes): #Loop through each attribute\n",
    "            if(curr_record.iloc[0,attributes[index]]==1):\n",
    "                p_0 = p_0 * model[2][index+1]\n",
    "                p_1 = p_1 * model[3][index+1]\n",
    "            else:\n",
    "                p_0 = p_0 * model[0][index+1]\n",
    "                p_1 = p_1 * model[1][index+1]\n",
    "                \n",
    "        #determine class and add to count_correct if correct\n",
    "        if(p_0>p_1):\n",
    "            if(curr_record.iloc[0,target_class]==0):\n",
    "                count_correct = count_correct +1\n",
    "        else:\n",
    "            if(curr_record.iloc[0,target_class]==1):\n",
    "                count_correct = count_correct +1\n",
    "\n",
    "    metric = count_correct/num_records\n",
    "    \n",
    "    return metric"
   ]
  },
  {
   "cell_type": "markdown",
   "metadata": {},
   "source": [
    "<a id=\"Models\"></a>\n",
    "## Models"
   ]
  },
  {
   "cell_type": "markdown",
   "metadata": {},
   "source": [
    "Winnow-2"
   ]
  },
  {
   "cell_type": "code",
   "execution_count": 55,
   "metadata": {},
   "outputs": [
    {
     "name": "stdout",
     "output_type": "stream",
     "text": [
      "winnow-2 Iris Class 1 model:\n",
      "[1, 1.0, 1, 0.5, 1, 0.5, 1.0, 1, 2, 1, 0.5, 1, 0.5, 1, 1, 2, 0.25, 1]\n",
      "winnow-2 Iris Class 2 model:\n",
      "[1, 1.0, 0.5, 1.0, 1, 1.0, 0.5, 1, 1.0, 1, 2.0, 1.0, 1.0, 0.25, 1, 1.0, 1.0, 0.5]\n",
      "winnow-2 Iris Class 3 model:\n",
      "[1, 1.0, 2.0, 1.0, 1, 1.0, 2.0, 1, 1.0, 1, 1.0, 2.0, 2.0, 0.5, 1, 1.0, 0.5, 4.0]\n"
     ]
    }
   ],
   "source": [
    "# Run Iris through\n",
    "attributes_iris = [3,4,5,6,7,8,9,10,11,12,13,14,15,16,17,18,19,20]\n",
    "winnow_2_iris = [1,1,1,1,1,1,1,1,1,1,1,1,1,1,1,1,1,1]\n",
    "print(\"winnow-2 Iris Class 1 model:\")\n",
    "winnow_2_iris_results_class1 = winnow_2_n_fold_cross_val(iris, 3, 0, attributes_iris, 4, 2, winnow_2_iris)\n",
    "print(\"winnow-2 Iris Class 2 model:\")\n",
    "winnow_2_iris_results_class2 = winnow_2_n_fold_cross_val(iris, 3, 1, attributes_iris, 4, 2, winnow_2_iris)\n",
    "print(\"winnow-2 Iris Class 3 model:\")\n",
    "winnow_2_iris_results_class3 = winnow_2_n_fold_cross_val(iris, 3, 2, attributes_iris, 4, 2, winnow_2_iris)"
   ]
  },
  {
   "cell_type": "code",
   "execution_count": 56,
   "metadata": {},
   "outputs": [
    {
     "name": "stdout",
     "output_type": "stream",
     "text": [
      "winnow-2 Glass Class 1 model:\n",
      "[0.5, 0.03125, 0.125, 0.5, 0.5, 0.125, 0.125, 0.5, 1, 1, 0.125, 1, 1, 0.125, 0.125, 1, 0.125, 0.0625, 0.5, 0.5, 0.125, 0.25, 0.25, 0.25, 1, 1, 0.0625, 0.125, 0.5, 1, 0.5, 1, 0.00390625, 0.5, 0.0078125, 1, 0.5, 0.5, 0.0625, 0.5, 0.25, 0.25, 1, 1]\n",
      "winnow-2 Glass Class 2 model:\n",
      "[0.125, 0.0625, 0.5, 0.5, 1.0, 0.125, 0.125, 1.0, 1, 0.5, 0.125, 1, 0.5, 0.25, 0.25, 0.5, 0.25, 0.125, 0.5, 0.5, 0.25, 0.5, 0.5, 0.125, 1, 0.5, 0.125, 0.25, 0.25, 1, 0.5, 0.5, 0.0078125, 1.0, 0.03125, 0.5, 0.5, 0.5, 0.0625, 0.5, 0.5, 0.5, 1, 0.5]\n",
      "winnow-2 Glass Class 3 model:\n",
      "[0.125, 0.125, 0.5, 0.5, 0.5, 0.25, 0.25, 1.0, 1, 0.5, 0.0625, 1, 0.25, 0.5, 1.0, 0.5, 0.5, 0.125, 0.5, 0.5, 0.25, 0.5, 0.5, 0.5, 1, 0.25, 0.25, 0.5, 0.25, 0.5, 0.5, 0.5, 0.015625, 1.0, 0.0625, 0.5, 0.5, 0.5, 0.125, 0.5, 1.0, 0.5, 1, 0.25]\n",
      "winnow-2 Glass Class 5 model:\n",
      "[0.0625, 0.25, 0.5, 0.5, 0.5, 1.0, 0.0625, 1.0, 1, 0.5, 0.125, 1, 0.25, 0.25, 1.0, 0.5, 0.125, 0.25, 0.5, 1.0, 0.5, 0.5, 0.25, 0.5, 1.0, 0.25, 0.25, 0.5, 0.25, 0.5, 0.5, 0.25, 0.03125, 1.0, 0.0625, 0.25, 1.0, 0.5, 0.25, 0.5, 0.5, 0.5, 1, 0.25]\n",
      "winnow-2 Glass Class 6 model:\n",
      "[0.0625, 0.125, 0.5, 0.5, 0.5, 0.5, 0.25, 0.5, 0.5, 0.5, 0.125, 1, 0.5, 0.125, 0.5, 0.5, 0.125, 0.125, 0.5, 1.0, 0.125, 0.5, 0.5, 0.25, 1.0, 0.5, 1.0, 0.125, 0.125, 0.5, 0.5, 0.125, 0.03125, 1.0, 0.125, 0.125, 0.5, 0.5, 0.25, 0.25, 0.5, 0.5, 1, 0.25]\n",
      "winnow-2 Glass Class 7 model:\n",
      "[0.125, 1.0, 0.5, 0.5, 0.5, 1.0, 1.0, 1.0, 0.5, 0.5, 0.25, 1, 0.5, 1.0, 0.5, 0.5, 0.25, 1.0, 0.5, 1.0, 0.125, 1.0, 1.0, 1.0, 1.0, 0.5, 2.0, 0.5, 0.25, 0.5, 0.5, 0.25, 0.25, 1.0, 0.25, 0.5, 1.0, 0.5, 2.0, 0.5, 0.5, 0.5, 1, 0.25]\n"
     ]
    }
   ],
   "source": [
    "# Run Glass through\n",
    "attributes_glass = [0,1,2,3,4,5,6,7,8,9,10,11,12,13,14,15,16,17,18,19,20,21,22,23,24,25,26,27,28,29,30,31,32,33,34,35,36,37,38,39,40,41,42,43]\n",
    "winnow_2_glass = [1,1,1,1,1,1,1,1,1,1,1,1,1,1,1,1,1,1,1,1,1,1,1,1,1,1,1,1,1,1,1,1,1,1,1,1,1,1,1,1,1,1,1,1]\n",
    "print(\"winnow-2 Glass Class 1 model:\")\n",
    "winnow_2_glass_results_class1 = winnow_2_n_fold_cross_val(glass, 3, 44, attributes_glass, 4, 2, winnow_2_glass)\n",
    "print(\"winnow-2 Glass Class 2 model:\")\n",
    "winnow_2_glass_results_class2 = winnow_2_n_fold_cross_val(glass, 3, 45, attributes_glass, 4, 2, winnow_2_glass)\n",
    "print(\"winnow-2 Glass Class 3 model:\")\n",
    "winnow_2_glass_results_class3 = winnow_2_n_fold_cross_val(glass, 3, 46, attributes_glass, 4, 2, winnow_2_glass)\n",
    "print(\"winnow-2 Glass Class 5 model:\")\n",
    "winnow_2_glass_results_class5 = winnow_2_n_fold_cross_val(glass, 3, 47, attributes_glass, 4, 2, winnow_2_glass)\n",
    "print(\"winnow-2 Glass Class 6 model:\")\n",
    "winnow_2_glass_results_class6 = winnow_2_n_fold_cross_val(glass, 3, 48, attributes_glass, 4, 2, winnow_2_glass)\n",
    "print(\"winnow-2 Glass Class 7 model:\")\n",
    "winnow_2_glass_results_class7 = winnow_2_n_fold_cross_val(glass, 3, 49, attributes_glass, 4, 2, winnow_2_glass)"
   ]
  },
  {
   "cell_type": "code",
   "execution_count": 57,
   "metadata": {},
   "outputs": [
    {
     "name": "stdout",
     "output_type": "stream",
     "text": [
      "winnow-2 Breast Cancer Class 1 model:\n",
      "[1, 1.0, 1.0, 0.5, 1.0, 0.5, 0.25, 0.0625, 0.25, 0.0009765625, 1.0, 0.5, 1.0, 0.25, 0.5, 0.25, 0.25, 0.0625, 1.0, 0.00390625, 2.0, 0.25, 1.0, 0.125, 0.25, 0.25, 0.25, 0.0625, 1, 0.015625, 0.125, 0.25, 0.5, 0.5, 0.25, 0.25, 0.5, 0.0625, 1, 0.0625, 1, 0.5, 0.03125, 0.125, 0.25, 0.03125, 0.25, 1.0, 1, 0.25, 1.0, 1.0, 1.0, 0.5, 1.0, 0.5, 0.25, 0.5, 0.25, 0.0001220703125, 1.0, 1.0, 0.5, 0.0625, 0.0625, 1, 0.015625, 0.25, 0.5, 0.25, 1.0, 2, 0.03125, 0.25, 0.5, 0.5, 0.5, 0.0625, 0.25, 0.03125, 0.03125, 0.125, 0.0625, 0.25, 0.5, 1, 0.5, 0.25, 0.25]\n",
      "winnow-2 Breast Cancer Class 2 model:\n",
      "[0.5, 0.25, 0.0625, 0.25, 0.25, 0.5, 0.5, 1.0, 2.0, 2.0, 0.0625, 0.5, 0.125, 0.25, 2.0, 2.0, 0.25, 0.5, 1.0, 1.0, 0.125, 0.0625, 0.5, 1.0, 0.25, 1.0, 0.25, 1.0, 2, 1.0, 0.125, 0.5, 0.0625, 1.0, 1.0, 0.5, 0.5, 0.5, 1, 1.0, 0.5, 0.03125, 0.25, 2.0, 0.25, 0.5, 0.125, 2.0, 1, 2.0, 0.0078125, 1.0, 0.5, 2.0, 0.25, 1.0, 0.5, 0.25, 1.0, 2.0, 0.25, 0.25, 0.25, 0.25, 2.0, 0.5, 1.0, 0.25, 0.5, 1.0, 0.125, 0.125, 1.0, 1.0, 1.0, 0.25, 1.0, 1.0, 0.25, 0.5, 0.0078125, 1.0, 1.0, 0.5, 1.0, 1, 0.5, 0.25, 1.0]\n"
     ]
    }
   ],
   "source": [
    "# Run Breast Cancer Through\n",
    "attributes_breast_cancer = [2,3,4,5,6,7,8,9,10,11,12,13,14,15,16,17,18,19,20,21,22,23,24,25,26,27,28,29,30,31,32,33,34,35,36,37,38,39,40,41,42,43,44,45,46,47,48,49,50,51,52,53,54,55,56,57,58,59,60,61,62,63,64,65,66,67,68,69,70,71,72,73,74,75,76,77,78,79,80,81,82,83,84,85,86,87,88,89,90]\n",
    "winnow_2_breast_cancer = [1,1,1,1,1,1,1,1,1,1,1,1,1,1,1,1,1,1,1,1,1,1,1,1,1,1,1,1,1,1,1,1,1,1,1,1,1,1,1,1,1,1,1,1,1,1,1,1,1,1,1,1,1,1,1,1,1,1,1,1,1,1,1,1,1,1,1,1,1,1,1,1,1,1,1,1,1,1,1,1,1,1,1,1,1,1,1,1,1]\n",
    "print(\"winnow-2 Breast Cancer Class 1 model:\")\n",
    "winnow_2_breast_cancer_results_class1 = winnow_2_n_fold_cross_val(breast_cancer, 3, 0, attributes_breast_cancer, 4, 2, winnow_2_breast_cancer)\n",
    "print(\"winnow-2 Breast Cancer Class 2 model:\")\n",
    "winnow_2_breast_cancer_results_class2 = winnow_2_n_fold_cross_val(breast_cancer, 3, 1, attributes_breast_cancer, 4, 2, winnow_2_breast_cancer)"
   ]
  },
  {
   "cell_type": "markdown",
   "metadata": {},
   "source": [
    "Naive Bayes"
   ]
  },
  {
   "cell_type": "code",
   "execution_count": 58,
   "metadata": {},
   "outputs": [
    {
     "name": "stdout",
     "output_type": "stream",
     "text": [
      "Naive Bayes Iris Class 1 model:\n",
      "[[0.9900990099009901, 0.9901980198019803, 0.9208910891089109, 0.36643564356435643, 0.7525742574257426, 0.9307920792079208, 0.811980198019802, 0.20801980198019804, 0.9604950495049506, 0.9901980198019803, 0.9901980198019803, 0.9604950495049506, 0.6535643564356436, 0.6436633663366337, 0.7525742574257426, 0.9505940594059407, 0.9901980198019803, 0.6337623762376238, 0.3565346534653465], [0, 9.900990099009902e-05, 0.0694059405940594, 0.6238613861386139, 0.23772277227722774, 0.0595049504950495, 0.17831683168316834, 0.7822772277227723, 0.0298019801980198, 9.900990099009902e-05, 9.900990099009902e-05, 0.0298019801980198, 0.3367326732673267, 0.3466336633663366, 0.23772277227722774, 0.039702970297029704, 9.900990099009902e-05, 0.3565346534653465, 0.6337623762376238], [0.009900990099009901, 0.505, 0.005, 0.505, 0.505, 0.505, 0.505, 0.005, 0.505, 0.005, 0.505, 0.505, 0.505, 0.505, 0.505, 0.505, 0.005, 0.505, 0.505], [0, 0.005, 0.505, 0.005, 0.005, 0.005, 0.005, 0.505, 0.005, 0.505, 0.005, 0.005, 0.005, 0.005, 0.005, 0.005, 0.505, 0.005, 0.005]]\n",
      "Naive Bayes Iris Class 2 model:\n",
      "[[0.5147534555435741, 1.000003808073115, 0.9602094440213252, 0.4687776085300838, 0.6877418126428027, 0.8834767707539984, 0.9004226961157654, 0.15803884234577303, 0.9417402894135567, 0.9807730388423457, 1.000003808073115, 0.9994325971058644, 0.9742993145468393, 0.5894935262757045, 0.5338956587966489, 0.9223191165270374, 0.9807730388423457, 0.9739185072353389, 0.045510281797410505], [0, 0.0001942117288651942, 0.039988575780654984, 0.5314204112718964, 0.3124562071591775, 0.11672124904798171, 0.09977532368621476, 0.8421591774562072, 0.05845773038842345, 0.019424980959634425, 0.0001942117288651942, 0.0007654226961157655, 0.0258987052551409, 0.41070449352627575, 0.4663023610053313, 0.07787890327494287, 0.019424980959634425, 0.02627951256664128, 0.9546877380045697], [0.49514753455543575, 0.9904901960784313, 0.8630392156862744, 0.2846078431372549, 0.833627450980392, 0.9904901960784313, 0.7355882352941175, 0.25519607843137254, 0.9904901960784313, 0.9806862745098038, 0.9904901960784313, 0.9316666666666665, 0.3434313725490196, 0.7159803921568626, 0.9904901960784313, 0.9904901960784313, 0.9806862745098038, 0.3042156862745098, 0.6963725490196078], [0, 0.0002941176470588235, 0.1277450980392157, 0.7061764705882352, 0.15715686274509802, 0.0002941176470588235, 0.25519607843137254, 0.7355882352941175, 0.0002941176470588235, 0.010098039215686274, 0.0002941176470588235, 0.059117647058823525, 0.6473529411764705, 0.27480392156862743, 0.0002941176470588235, 0.0002941176470588235, 0.010098039215686274, 0.6865686274509802, 0.2944117647058823]]\n",
      "Naive Bayes Iris Class 3 model:\n",
      "[[0.510047063916273, 1.000192380924483, 0.8648117200773331, 0.29766880016404007, 0.8403411887046691, 0.9979514763606538, 0.7482773595406879, 0.2532315161989572, 0.9990719286425684, 0.9805917892085065, 1.000192380924483, 0.942489088405882, 0.3650826791259008, 0.7230671831976097, 0.9912287626691664, 0.9986984445485968, 0.9805917892085065, 0.3266138174468335, 0.6933751977268733], [0, 0.00019604253324740758, 0.1355767033803972, 0.7027196232936903, 0.1600472347530611, 0.0024369470970765712, 0.2521110639170426, 0.7471569072587733, 0.0013164948151619894, 0.01979663424922374, 0.00019604253324740758, 0.057899335051848376, 0.6353057443318296, 0.27732124026012067, 0.009159660788564063, 0.0016899789091335167, 0.01979663424922374, 0.673774606010897, 0.3070132257308571], [0.4999519557876776, 1.0000096116878123, 0.9779027297193386, 0.4567570165321031, 0.6832083813917724, 0.882362552864283, 0.8969723183391003, 0.1620626682045367, 0.9411860822760477, 0.9998173779315648, 1.0000096116878123, 0.9988562091503267, 0.967714340638216, 0.5828623606305268, 0.5294213763936948, 0.9215782391387928, 0.9998173779315648, 0.9669454056132256, 0.03345828527489427], [0, 0.00020184544405997692, 0.02230872741253364, 0.5434544405997693, 0.31700307574009995, 0.11784890426758939, 0.103239138792772, 0.8381487889273356, 0.059025374855824674, 0.00039407920030757395, 0.00020184544405997692, 0.0013552479815455592, 0.03249711649365628, 0.41734909650134566, 0.47079008073817763, 0.07863321799307958, 0.00039407920030757395, 0.03326605151864667, 0.9667531718569781]]\n"
     ]
    }
   ],
   "source": [
    "# Run Iris through\n",
    "naive_bayes_iris=[[0,0,0,0,0,0,0,0,0,0,0,0,0,0,0,0,0,0,0],[0,0,0,0,0,0,0,0,0,0,0,0,0,0,0,0,0,0,0],[0,0,0,0,0,0,0,0,0,0,0,0,0,0,0,0,0,0,0],[0,0,0,0,0,0,0,0,0,0,0,0,0,0,0,0,0,0,0]]\n",
    "print(\"Naive Bayes Iris Class 1 model:\")\n",
    "naive_bayes_iris_results_class1 = naive_bayes_n_fold_cross_val(iris, 3, 0, attributes_iris, naive_bayes_iris)\n",
    "print(\"Naive Bayes Iris Class 2 model:\")\n",
    "naive_bayes_iris_results_class2 = naive_bayes_n_fold_cross_val(iris, 3, 1, attributes_iris, naive_bayes_iris)\n",
    "print(\"Naive Bayes Iris Class 3 model:\")\n",
    "naive_bayes_iris_results_class3 = naive_bayes_n_fold_cross_val(iris, 3, 2, attributes_iris, naive_bayes_iris)"
   ]
  },
  {
   "cell_type": "code",
   "execution_count": 59,
   "metadata": {},
   "outputs": [
    {
     "name": "stdout",
     "output_type": "stream",
     "text": [
      "Naive Bayes Glass Class 1 model:\n",
      "[[1.0, 0.9517931034482758, 0.08972413793103448, 0.9448965517241379, 0.9586896551724138, 0.9517931034482758, 0.4966206896551725, 0.6966206896551724, 0.8828275862068965, 0.9862758620689654, 0.9862758620689654, 0.6966206896551724, 0.9724827586206896, 0.8966206896551724, 0.7724827586206897, 0.634551724137931, 0.9862758620689654, 0.5517931034482759, 0.5173103448275862, 0.931103448275862, 0.9862758620689654, 0.9517931034482758, 0.9517931034482758, 0.7517931034482759, 0.40006896551724136, 0.938, 0.9724827586206896, 0.5517931034482759, 0.47593103448275864, 0.9793793103448275, 0.9862758620689654, 0.9793793103448275, 0.9862758620689654, 0.027655172413793103, 0.9724827586206896, 0.18627586206896551, 0.8966206896551724, 0.9173103448275861, 0.9793793103448275, 0.2966206896551724, 0.8759310344827587, 0.8759310344827587, 0.9517931034482758, 0.9793793103448275, 0.9862758620689654], [0, 0.041448275862068965, 0.9035172413793103, 0.048344827586206895, 0.034551724137931034, 0.041448275862068965, 0.4966206896551725, 0.2966206896551724, 0.11041379310344829, 0.006965517241379311, 0.006965517241379311, 0.2966206896551724, 0.02075862068965517, 0.09662068965517241, 0.22075862068965516, 0.3586896551724138, 0.006965517241379311, 0.44144827586206903, 0.47593103448275864, 0.06213793103448276, 0.006965517241379311, 0.041448275862068965, 0.041448275862068965, 0.24144827586206896, 0.5931724137931035, 0.055241379310344826, 0.02075862068965517, 0.44144827586206903, 0.5173103448275862, 0.01386206896551724, 0.006965517241379311, 0.01386206896551724, 0.006965517241379311, 0.9655862068965516, 0.02075862068965517, 0.8069655172413793, 0.09662068965517241, 0.07593103448275862, 0.01386206896551724, 0.6966206896551724, 0.11731034482758622, 0.11731034482758622, 0.041448275862068965, 0.01386206896551724, 0.006965517241379311], [0.0, 0.01, 0.01, 0.01, 0.01, 0.01, 0.01, 0.01, 0.01, 0.01, 0.01, 0.01, 0.01, 0.01, 0.01, 0.01, 0.01, 0.01, 0.01, 0.01, 0.01, 0.01, 0.01, 0.01, 0.01, 0.01, 0.01, 0.01, 0.01, 0.01, 0.01, 0.01, 0.01, 0.01, 0.01, 0.01, 0.01, 0.01, 0.01, 0.01, 0.01, 0.01, 0.01, 0.01, 0.01], [0, 0.01, 0.01, 0.01, 0.01, 0.01, 0.01, 0.01, 0.01, 0.01, 0.01, 0.01, 0.01, 0.01, 0.01, 0.01, 0.01, 0.01, 0.01, 0.01, 0.01, 0.01, 0.01, 0.01, 0.01, 0.01, 0.01, 0.01, 0.01, 0.01, 0.01, 0.01, 0.01, 0.01, 0.01, 0.01, 0.01, 0.01, 0.01, 0.01, 0.01, 0.01, 0.01, 0.01, 0.01]]\n",
      "Naive Bayes Glass Class 2 model:\n",
      "[[0.4791666666666667, 0.9269825087456272, 0.07390904547726136, 0.9993463268365819, 0.9850534732633683, 0.955968015992004, 0.7174872563718141, 0.5899510244877562, 0.7810554722638681, 0.9854532733633184, 0.9854532733633184, 0.5029945027486257, 0.9852533733133434, 0.8247336331834083, 0.8374272863568215, 0.8499210394802599, 0.9854532733633184, 0.7182868565717141, 0.4424247876061969, 0.868711644177911, 0.9854532733633184, 0.9414752623688155, 0.955968015992004, 0.8081419290354823, 0.4117401299350325, 0.9267826086956522, 0.9562678660669666, 0.355968015992004, 0.7171874062968515, 0.9708605697151425, 0.9854532733633184, 0.9708605697151425, 0.9854532733633184, 0.015038480759620188, 0.9997461269365318, 0.37965617191404305, 0.7957481259370315, 0.8395262368815591, 0.9853533233383309, 0.163864067966017, 0.9113903048475762, 0.96936131934033, 0.9849535232383808, 0.9853533233383309, 0.9854532733633184], [0, 0.07320939530234882, 0.9262828585707147, 0.0008455772113943029, 0.015138430784607694, 0.044223888055972015, 0.282704647676162, 0.4102408795602199, 0.21913643178410794, 0.014738630684657672, 0.014738630684657672, 0.49719740129935025, 0.014938530734632683, 0.1754582708645677, 0.1627646176911544, 0.15027086456771616, 0.014738630684657672, 0.2819050474762619, 0.557767116441779, 0.13148025987006498, 0.014738630684657672, 0.05871664167916042, 0.044223888055972015, 0.19204997501249377, 0.5884517741129436, 0.07340929535232384, 0.04392403798100949, 0.6442238880559721, 0.28300449775112446, 0.02933133433283358, 0.014738630684657672, 0.02933133433283358, 0.014738630684657672, 0.9851534232883559, 0.00044577711144427786, 0.620535732133933, 0.20444377811094452, 0.16066566716641678, 0.014838580709645178, 0.836327836081959, 0.0888015992003998, 0.030830584707646175, 0.015238380809595201, 0.014838580709645178, 0.014738630684657672], [0.5277777777777778, 0.9742857142857142, 0.10415584415584415, 0.8963636363636364, 0.9353246753246752, 0.9483116883116882, 0.298961038961039, 0.7924675324675324, 0.9742857142857142, 0.9872727272727272, 0.9872727272727272, 0.8703896103896104, 0.9612987012987012, 0.9612987012987012, 0.7145454545454545, 0.4418181818181818, 0.9872727272727272, 0.40285714285714286, 0.5846753246753246, 0.9872727272727272, 0.9872727272727272, 0.9612987012987012, 0.9483116883116882, 0.7015584415584415, 0.38987012987012987, 0.9483116883116882, 0.9872727272727272, 0.7275324675324675, 0.26, 0.9872727272727272, 0.9872727272727272, 0.9872727272727272, 0.9872727272727272, 0.03922077922077922, 0.9483116883116882, 0.013246753246753246, 0.9872727272727272, 0.9872727272727272, 0.9742857142857142, 0.4158441558441558, 0.8444155844155844, 0.7924675324675324, 0.9223376623376622, 0.9742857142857142, 0.9872727272727272], [0, 0.013246753246753246, 0.8833766233766234, 0.09116883116883116, 0.0522077922077922, 0.03922077922077922, 0.6885714285714285, 0.19506493506493505, 0.013246753246753246, 0.00025974025974025974, 0.00025974025974025974, 0.11714285714285713, 0.026233766233766227, 0.026233766233766227, 0.272987012987013, 0.5457142857142857, 0.00025974025974025974, 0.5846753246753246, 0.40285714285714286, 0.00025974025974025974, 0.00025974025974025974, 0.026233766233766227, 0.03922077922077922, 0.285974025974026, 0.5976623376623376, 0.03922077922077922, 0.00025974025974025974, 0.26, 0.7275324675324675, 0.00025974025974025974, 0.00025974025974025974, 0.00025974025974025974, 0.00025974025974025974, 0.9483116883116882, 0.03922077922077922, 0.9742857142857142, 0.00025974025974025974, 0.00025974025974025974, 0.013246753246753246, 0.5716883116883117, 0.14311688311688311, 0.19506493506493505, 0.0651948051948052, 0.013246753246753246, 0.00025974025974025974]]\n",
      "Naive Bayes Glass Class 3 model:\n",
      "[[0.8852719907407408, 0.9526326758495752, 0.1022180394177911, 0.9453855181784109, 0.9608988552598702, 0.9606716251249375, 0.49787099419040476, 0.7234371173788107, 0.8733676208770615, 0.992151978698151, 0.992151978698151, 0.6602577695527238, 0.9765254169790105, 0.8893338565092453, 0.8034955256746626, 0.6707806331209396, 0.992151978698151, 0.5994397410669666, 0.4879095686531734, 0.9287399347201399, 0.992151978698151, 0.9527459004872564, 0.9606716251249375, 0.7720167338205898, 0.40173234476511743, 0.9370061141304348, 0.9762989677036482, 0.5419216251249376, 0.49786865161169414, 0.9842254732008996, 0.992151978698151, 0.9842254732008996, 0.992151978698151, 0.03144561313093453, 0.9766386416166917, 0.21398168884307847, 0.889107407233883, 0.9128869237256373, 0.9843386978385807, 0.2982333130309845, 0.8821983617566217, 0.8826512603073463, 0.9530855744002998, 0.9921511978385807, 0.992151978698151], [0, 0.0475250734007996, 0.8979397098325838, 0.054772231071964016, 0.039258893990504744, 0.03948612412543728, 0.50228675505997, 0.2767206318715642, 0.12679012837331335, 0.008005770552223889, 0.008005770552223889, 0.3398999796976511, 0.023632332271364315, 0.11082389274112943, 0.19666222357571214, 0.32937711612943527, 0.008005770552223889, 0.40071800818340825, 0.5122481805972015, 0.07141781453023488, 0.008005770552223889, 0.047411848763118436, 0.03948612412543728, 0.22814101542978513, 0.5984254044852574, 0.06315163511994003, 0.023858781546726635, 0.4582361241254373, 0.5022890976386807, 0.01593227604947526, 0.008005770552223889, 0.01593227604947526, 0.008005770552223889, 0.9687121361194403, 0.02351910763368316, 0.7861760604072964, 0.11105034201649175, 0.08727082552473762, 0.0158190514117941, 0.7019244362193904, 0.11795938749375312, 0.11750648894302848, 0.04707217485007496, 0.008006551411794103, 0.008005770552223889], [0.12172067901234568, 0.9991269841269842, 0.0063419913419913414, 0.99479797979798, 0.996962481962482, 0.9421284271284271, 0.5171645021645022, 0.5445815295815296, 0.9991269841269842, 0.999848484848485, 0.999848484848485, 0.9933549783549783, 0.9984054834054835, 0.9984054834054835, 0.5958080808080808, 0.41398989898989896, 0.999848484848485, 0.24515873015873016, 0.7552597402597402, 0.999848484848485, 0.999848484848485, 0.9984054834054835, 0.9421284271284271, 0.6506421356421357, 0.4111038961038961, 0.9976839826839827, 0.999848484848485, 0.652085137085137, 0.34833333333333333, 0.999848484848485, 0.999848484848485, 0.999848484848485, 0.999848484848485, 0.0027344877344877344, 0.9976839826839827, 0.0012914862914862914, 0.999848484848485, 0.999848484848485, 0.9991269841269842, 0.3014357864357864, 0.8808008658008658, 0.877914862914863, 0.9962409812409813, 0.9435714285714286, 0.999848484848485], [0, 0.0012914862914862914, 0.9940764790764791, 0.0056204906204906195, 0.003455988455988456, 0.058290043290043295, 0.48325396825396827, 0.45583694083694076, 0.0012914862914862914, 0.00056998556998557, 0.00056998556998557, 0.007063492063492063, 0.002012987012987013, 0.002012987012987013, 0.4046103896103896, 0.5864285714285714, 0.00056998556998557, 0.7552597402597402, 0.24515873015873016, 0.00056998556998557, 0.00056998556998557, 0.002012987012987013, 0.058290043290043295, 0.34977633477633474, 0.5893145743145743, 0.0027344877344877344, 0.00056998556998557, 0.34833333333333333, 0.652085137085137, 0.00056998556998557, 0.00056998556998557, 0.00056998556998557, 0.00056998556998557, 0.9976839826839827, 0.0027344877344877344, 0.9991269841269842, 0.00056998556998557, 0.00056998556998557, 0.0012914862914862914, 0.698982683982684, 0.11961760461760461, 0.1225036075036075, 0.004177489177489177, 0.05684704184704185, 0.00056998556998557]]\n",
      "Naive Bayes Glass Class 5 model:\n"
     ]
    },
    {
     "name": "stdout",
     "output_type": "stream",
     "text": [
      "[[0.915869944380144, 0.9694138839079514, 0.08418346999558933, 0.9466317084710486, 0.9694765064792414, 0.9618990274630678, 0.5265747802590183, 0.6797987660407486, 0.8779043001581596, 0.9924405452931676, 0.9924405452931676, 0.7323504376481267, 0.9771706470983257, 0.9234798019432519, 0.7637386024672324, 0.6036422775236435, 0.9924405452931676, 0.5197684828868709, 0.5416508300655545, 0.9465056055660617, 1.000016302868925, 0.969414741670358, 0.9618990274630678, 0.7559243691956106, 0.3819070632179175, 0.9541439857131094, 0.9771689315735125, 0.5572115274630677, 0.4583929443303916, 0.9923804960090976, 0.9924405452931676, 0.9999562535848552, 0.9924405452931676, 0.030617012220688893, 0.9771715048607325, 0.1986665279457809, 0.8931750561154083, 0.9236582342706487, 0.9848055961957467, 0.3129411614623559, 0.8703954421345199, 0.8703988731841465, 0.9618415573818204, 0.9848647818018074, 1.000016302868925], [0, 0.030738826313642418, 0.9159692402260045, 0.05352100175054518, 0.030676203742352307, 0.03825368275852604, 0.47357792996257553, 0.3203539441808452, 0.12224841006343422, 0.007712164928425938, 0.007712164928425938, 0.267802272573467, 0.02298206312326791, 0.07667290827834189, 0.23641410775436147, 0.3965104326979503, 0.007712164928425938, 0.48038422733472275, 0.4585018801560394, 0.05364710465553208, 0.00013640735266836279, 0.030737968551235745, 0.03825368275852604, 0.2442283410259832, 0.6182456470036762, 0.046008724508484394, 0.022983778648081262, 0.442941182758526, 0.5417597658912021, 0.0077722142124960255, 0.007712164928425938, 0.00019645663673844896, 0.007712164928425938, 0.9695356980009049, 0.022981205360861234, 0.8014861822758129, 0.10697765410618554, 0.07649447595094497, 0.015347114025846926, 0.6872115487592378, 0.1297572680870739, 0.1297538370374472, 0.038311152839773294, 0.01528792841978632, 0.00013640735266836279], [0.09112306027091906, 0.8577947845804988, 0.14402442795299938, 1.000342712842713, 0.9290687487116058, 0.9251520305091734, 0.2519403215831787, 0.8967558235415378, 1.0006519274376418, 1.0007034632034633, 1.0007034632034633, 0.42881106988249845, 1.0006003916718202, 0.7148861059575345, 0.9004148629148628, 0.9588564213564214, 1.0007034632034633, 0.8753684807256236, 0.3403756957328386, 0.8578463203463204, 0.9292748917748918, 0.8577432488146775, 0.9251520305091734, 0.7614744382601525, 0.6015074211502782, 0.8576917130488558, 1.0007034632034633, 0.5472917955060812, 0.6684523809523809, 0.9292748917748918, 1.0007034632034633, 0.8578463203463204, 1.0007034632034633, 0.0009096062667491239, 1.0005488559059987, 0.07223510616367759, 1.0007034632034633, 0.9292748917748918, 1.0006519274376418, 0.16510255617398473, 0.992200061842919, 0.991993918779633, 0.9290172129457843, 0.9966836734693877, 0.9292748917748918], [0, 0.14366367759224902, 0.8574340342197485, 0.0011157493300350443, 0.07238971346114202, 0.07630643166357452, 0.7495181405895692, 0.10470263863121006, 0.0008065347351061637, 0.0007549989692846835, 0.0007549989692846835, 0.5726473922902493, 0.0008580705009276438, 0.2865723562152134, 0.10104359925788498, 0.04260204081632653, 0.0007549989692846835, 0.1260899814471243, 0.6610827664399093, 0.14361214182642754, 0.07218357039785613, 0.1437152133580705, 0.07630643166357452, 0.23998402391259535, 0.3999510410224696, 0.14376674912389195, 0.0007549989692846835, 0.45416666666666666, 0.33300608122036696, 0.07218357039785613, 0.0007549989692846835, 0.14361214182642754, 0.0007549989692846835, 1.0005488559059987, 0.0009096062667491239, 0.9292233560090704, 0.0007549989692846835, 0.07218357039785613, 0.0008065347351061637, 0.8363559059987632, 0.0092584003298289, 0.009464543393114823, 0.07244124922696352, 0.004774788703360132, 0.07218357039785613]]\n",
      "Naive Bayes Glass Class 6 model:\n",
      "[[0.9438602079470844, 0.9704368667934408, 0.08157487845584993, 0.9482105272681693, 0.963084386077053, 0.9556757281431106, 0.46718069691366926, 0.7256602850444173, 0.8962345904423394, 0.9926650040095085, 1.000017945185979, 0.7039878708650598, 0.9851997841698406, 0.9333344103084062, 0.7630421956063768, 0.6148061932170856, 1.000017945185979, 0.5406600623741682, 0.5334680208093056, 0.9335037176879858, 0.9927207081093302, 0.9557309907475762, 0.9556757281431106, 0.7629847380087913, 0.3925875519354258, 0.9409128234243611, 0.9925527127321582, 0.5924059671136991, 0.4446205363553705, 0.9853116212941845, 0.9926650040095085, 0.9853673253940062, 0.9926650040095085, 0.029710419207505064, 0.9778468493004465, 0.20006372447018958, 0.8963468754126134, 0.9186298399578724, 0.9852559235014392, 0.3185510379519291, 0.8741205547215775, 0.8741205799498835, 0.955675305568984, 0.9852563586897191, 0.9927207081093302], [0, 0.02971131489936502, 0.918573303236956, 0.05193765442463636, 0.03706379561575259, 0.04447245354969504, 0.5329674847791366, 0.2744878966483886, 0.10391359125046642, 0.00748317768329725, 0.0001302365068266613, 0.2961603108277461, 0.014948397522965206, 0.06681377138439958, 0.23710598608642913, 0.3853419884757202, 0.0001302365068266613, 0.45948811931863764, 0.46668016088350023, 0.06664446400482009, 0.007427473583475503, 0.044417190945229675, 0.04447245354969504, 0.2371634436840146, 0.60756062975738, 0.059235358268444734, 0.007595468960647657, 0.40774221457910675, 0.5555276453374354, 0.01483656039862129, 0.00748317768329725, 0.014780856298799546, 0.00748317768329725, 0.9704377624853007, 0.022301332392359274, 0.8000844572226162, 0.10380130628019253, 0.08151834173493341, 0.014892258191366518, 0.6815971437408768, 0.12602762697122852, 0.12602760174292243, 0.04447287612382186, 0.014891823003086661, 0.007427473583475503], [0.06313279902965915, 0.7867794784580499, 0.2154024427952999, 1.0010342712842712, 0.9939068748711606, 0.9935152030509175, 0.9261940321583179, 0.3906755823541538, 0.8010651927437641, 1.0010703463203463, 0.9010703463203462, 0.6438811069882499, 0.901060039167182, 0.4724886105957534, 0.9910414862914863, 0.996885642135642, 0.9010703463203462, 0.7885368480725623, 0.3350375695732838, 0.9867846320346321, 0.9939274891774892, 0.9867743248814678, 0.9935152030509175, 0.6771474438260152, 0.5611507421150278, 0.9867691713048856, 0.8010703463203462, 0.05572917955060812, 0.967845238095238, 0.9939274891774892, 1.0010703463203463, 0.9867846320346321, 1.0010703463203463, 0.0010909606266749122, 1.0010548855905999, 0.008223510616367759, 1.0010703463203463, 0.9939274891774892, 1.0010651927437642, 0.017510255617398475, 1.0002200061842919, 1.0001993918779633, 0.9939017212945783, 1.0006683673469388, 0.9939274891774892], [0, 0.21536636775922488, 0.7867434034219748, 0.0011115749330035045, 0.008238971346114201, 0.008630643166357452, 0.07595181405895693, 0.611470263863121, 0.20108065347351056, 0.0010754998969284683, 0.10107549989692848, 0.3582647392290249, 0.10108580705009276, 0.5296572356215213, 0.011104359925788497, 0.005260204081632653, 0.10107549989692848, 0.2136089981447124, 0.6671082766439909, 0.015361214182642755, 0.008218357039785611, 0.015371521335807051, 0.008630643166357452, 0.3249984023912595, 0.44099510410224696, 0.015376674912389195, 0.20107549989692847, 0.9464166666666666, 0.034300608122036697, 0.008218357039785611, 0.0010754998969284683, 0.015361214182642755, 0.0010754998969284683, 1.0010548855905999, 0.0010909606266749122, 0.9939223356009071, 0.0010754998969284683, 0.008218357039785611, 0.0010806534735106163, 0.9846355905998763, 0.0019258400329828901, 0.0019464543393114824, 0.008244124922696352, 0.001477478870336013, 0.008218357039785611]]\n",
      "Naive Bayes Glass Class 7 model:\n",
      "[[0.8051656958885214, 0.9567279040240815, 0.10423771446944698, 0.9392949183385187, 0.9566645205696298, 0.9566006528288199, 0.38342397152511787, 0.7391005196986589, 0.973329608538296, 1.0000229741724957, 0.9914656719412586, 0.8251205850936644, 0.9740965498635331, 0.9046839173302449, 0.7480434672035032, 0.5484897085622162, 0.9914656719412586, 0.47026431088253595, 0.5650298967311148, 0.9822715837731724, 0.9914027647250805, 0.9652218188857551, 0.9566006528288199, 0.7049395236035241, 0.4345050651028916, 0.9564733864088307, 0.982780626833898, 0.6431241893716699, 0.3832294873823739, 0.9913388932870189, 1.0000229741724957, 0.9827186838396036, 1.0000229741724957, 0.026204400165581936, 0.9740331624939694, 0.019052273486811978, 0.9991926454776949, 0.9907640503444645, 0.9913384131336331, 0.3390392330857925, 0.8869320737475997, 0.8524493153443955, 0.9479799595307672, 0.9827177272300839, 0.9914027647250805], [0, 0.04344578719740832, 0.8959359767520427, 0.060878772882971, 0.043509170651859934, 0.04357303839266978, 0.6167497196963719, 0.26107317152283094, 0.026844082683193677, 0.00015071704899394183, 0.008708019280231264, 0.1750531061278254, 0.026077141357956593, 0.09548977389124483, 0.25213022401798646, 0.4516839826592734, 0.008708019280231264, 0.5299093803389537, 0.435143794490375, 0.01790210744831741, 0.008770926496409271, 0.034951872335734734, 0.04357303839266978, 0.2952341676179656, 0.5656686261185983, 0.04370030481265901, 0.017393064387591785, 0.3570495018498199, 0.6169442038391159, 0.008834797934470874, 0.00015071704899394183, 0.0174550073818862, 0.00015071704899394183, 0.9739692910559078, 0.02614052872752034, 0.9811214177346779, 0.0009810457437947632, 0.009409640877025288, 0.008835278087856608, 0.6611344581356973, 0.1132416174738899, 0.14772437587709417, 0.0521937316907226, 0.017455963991405917, 0.008770926496409271], [0.20182731110437263, 0.9598926492819351, 0.04084674809317666, 1.0003678090428092, 1.0001302291623722, 0.9667838401016974, 0.9645398010719439, 0.546689186078472, 0.5603688397581255, 0.9670356782106783, 0.9970356782106783, 0.2217960368996083, 0.9970353346389061, 0.8827496203531918, 0.9000347162097163, 1.0002295214045214, 0.9970356782106783, 0.8932845616024188, 0.3448345856524428, 0.7665594877344878, 1.0001309163059162, 0.9332258108293823, 0.9667838401016974, 0.9562382481275339, 0.28570502473716763, 0.8998923057101629, 0.9603690115440116, 0.20219097265168695, 0.8659281746031746, 0.966797582972583, 0.9670356782106783, 0.9998928210678211, 0.9670356782106783, 0.033703032020889166, 1.0003684961863533, 0.8339407836872124, 0.5337023448773449, 0.666797582972583, 0.9670355064247923, 0.1342503418539133, 0.8670073335394765, 1.0003399797292656, 1.000130057376486, 1.000355612244898, 1.0001309163059162], [0, 0.04084554559197416, 0.9598914467807325, 0.0003703858311001168, 0.00060796571153714, 0.03395435477221191, 0.03619839380196523, 0.45404900879543736, 0.4403693551157837, 0.03370251666323095, 0.003702516663230949, 0.7789421579743009, 0.0037028602350030917, 0.11798857452071737, 0.10070347866419294, 0.0005086734693877551, 0.003702516663230949, 0.1074536332714904, 0.6559036092214664, 0.2341787071394214, 0.0006072785679928536, 0.06751238404452689, 0.03395435477221191, 0.04449994674637532, 0.7150331701367416, 0.10084588916374629, 0.04036918332989761, 0.7985472222222222, 0.13481002027073455, 0.03394061190132618, 0.03370251666323095, 0.0008453738060880918, 0.03370251666323095, 0.9670351628530199, 0.0003696986875558304, 0.1667974111866969, 0.4670358499965642, 0.3339406119013262, 0.03370268844911702, 0.8664878530199959, 0.13373086133443274, 0.00039821514464371605, 0.0006081374974232117, 0.0003825826290112004, 0.0006072785679928536]]\n"
     ]
    }
   ],
   "source": [
    "# Run Glass through\n",
    "naive_bayes_glass=[[0,0,0,0,0,0,0,0,0,0,0,0,0,0,0,0,0,0,0,0,0,0,0,0,0,0,0,0,0,0,0,0,0,0,0,0,0,0,0,0,0,0,0,0,0],[0,0,0,0,0,0,0,0,0,0,0,0,0,0,0,0,0,0,0,0,0,0,0,0,0,0,0,0,0,0,0,0,0,0,0,0,0,0,0,0,0,0,0,0,0],[0,0,0,0,0,0,0,0,0,0,0,0,0,0,0,0,0,0,0,0,0,0,0,0,0,0,0,0,0,0,0,0,0,0,0,0,0,0,0,0,0,0,0,0,0],[0,0,0,0,0,0,0,0,0,0,0,0,0,0,0,0,0,0,0,0,0,0,0,0,0,0,0,0,0,0,0,0,0,0,0,0,0,0,0,0,0,0,0,0,0]]\n",
    "print(\"Naive Bayes Glass Class 1 model:\")\n",
    "naive_bayes_glass_results_class1 = naive_bayes_n_fold_cross_val(glass, 3, 44, attributes_glass, naive_bayes_glass)\n",
    "print(\"Naive Bayes Glass Class 2 model:\")\n",
    "naive_bayes_glass_results_class2 = naive_bayes_n_fold_cross_val(glass, 3, 45, attributes_glass, naive_bayes_glass)\n",
    "print(\"Naive Bayes Glass Class 3 model:\")\n",
    "naive_bayes_glass_results_class3 = naive_bayes_n_fold_cross_val(glass, 3, 46, attributes_glass, naive_bayes_glass)\n",
    "print(\"Naive Bayes Glass Class 5 model:\")\n",
    "naive_bayes_glass_results_class5 = naive_bayes_n_fold_cross_val(glass, 3, 47, attributes_glass, naive_bayes_glass)\n",
    "print(\"Naive Bayes Glass Class 6 model:\")\n",
    "naive_bayes_glass_results_class6 = naive_bayes_n_fold_cross_val(glass, 3, 48, attributes_glass, naive_bayes_glass)\n",
    "print(\"Naive Bayes Glass Class 7 model:\")\n",
    "naive_bayes_glass_results_class7 = naive_bayes_n_fold_cross_val(glass, 3, 49, attributes_glass, naive_bayes_glass)"
   ]
  },
  {
   "cell_type": "code",
   "execution_count": 60,
   "metadata": {},
   "outputs": [
    {
     "name": "stdout",
     "output_type": "stream",
     "text": [
      "Naive Bayes Breast Cancer Class 2 model:\n",
      "[[0.29978118161925604, 0.9855797101449275, 0.9783333333333333, 0.9421014492753622, 0.9203623188405797, 0.8189130434782609, 0.9131159420289855, 0.9058695652173914, 0.8116666666666668, 0.9493478260869564, 0.7102173913043479, 0.971086956521739, 0.971086956521739, 0.9276086956521739, 0.8334057971014494, 0.9131159420289855, 0.8841304347826088, 0.9203623188405797, 0.855144927536232, 0.971086956521739, 0.6884782608695652, 0.9855797101449275, 0.9638405797101448, 0.8986231884057971, 0.855144927536232, 0.8986231884057971, 0.8768840579710145, 0.8913768115942029, 0.8768840579710145, 0.9638405797101448, 0.7247101449275363, 0.8841304347826088, 0.8913768115942029, 0.9131159420289855, 0.9203623188405797, 0.8841304347826088, 0.9203623188405797, 0.9348550724637681, 0.8841304347826088, 0.9783333333333333, 0.7247101449275363, 0.9928260869565216, 0.9058695652173914, 0.789927536231884, 0.7826811594202899, 0.855144927536232, 0.8334057971014494, 0.9565942028985507, 0.9421014492753622, 0.9855797101449275, 0.8913768115942029, 0.9421014492753622, 0.9565942028985507, 0.9348550724637681, 0.9276086956521739, 0.9276086956521739, 0.9783333333333333, 0.9783333333333333, 0.9493478260869564, 0.971086956521739, 0.36963768115942025, 0.9855797101449275, 0.971086956521739, 0.8623913043478261, 0.8696376811594203, 0.8841304347826088, 0.9565942028985507, 0.7247101449275363, 0.8768840579710145, 0.9421014492753622, 0.8623913043478261, 0.8261594202898551, 0.9638405797101448, 0.8334057971014494, 0.9276086956521739, 0.9203623188405797, 0.9131159420289855, 0.9421014492753622, 0.9203623188405797, 0.9565942028985507, 0.7319565217391305, 0.4203623188405797, 0.8768840579710145, 0.8696376811594203, 0.9421014492753622, 0.9783333333333333, 0.9855797101449275, 0.971086956521739, 0.9638405797101448, 0.9348550724637681], [0, 0.007318840579710145, 0.014565217391304347, 0.050797101449275364, 0.07253623188405797, 0.17398550724637682, 0.07978260869565217, 0.08702898550724637, 0.18123188405797103, 0.04355072463768116, 0.2826811594202898, 0.02181159420289855, 0.02181159420289855, 0.06528985507246376, 0.1594927536231884, 0.07978260869565217, 0.10876811594202898, 0.07253623188405797, 0.1377536231884058, 0.02181159420289855, 0.30442028985507247, 0.007318840579710145, 0.029057971014492753, 0.09427536231884058, 0.1377536231884058, 0.09427536231884058, 0.1160144927536232, 0.10152173913043479, 0.1160144927536232, 0.029057971014492753, 0.26818840579710146, 0.10876811594202898, 0.10152173913043479, 0.07978260869565217, 0.07253623188405797, 0.10876811594202898, 0.07253623188405797, 0.058043478260869565, 0.10876811594202898, 0.014565217391304347, 0.26818840579710146, 7.246376811594203e-05, 0.08702898550724637, 0.20297101449275362, 0.21021739130434783, 0.1377536231884058, 0.1594927536231884, 0.036304347826086956, 0.050797101449275364, 0.007318840579710145, 0.10152173913043479, 0.050797101449275364, 0.036304347826086956, 0.058043478260869565, 0.06528985507246376, 0.06528985507246376, 0.014565217391304347, 0.014565217391304347, 0.04355072463768116, 0.02181159420289855, 0.6232608695652174, 0.007318840579710145, 0.02181159420289855, 0.1305072463768116, 0.1232608695652174, 0.10876811594202898, 0.036304347826086956, 0.26818840579710146, 0.1160144927536232, 0.050797101449275364, 0.1305072463768116, 0.1667391304347826, 0.029057971014492753, 0.1594927536231884, 0.06528985507246376, 0.07253623188405797, 0.07978260869565217, 0.050797101449275364, 0.07253623188405797, 0.036304347826086956, 0.2609420289855072, 0.572536231884058, 0.1160144927536232, 0.1232608695652174, 0.050797101449275364, 0.014565217391304347, 0.007318840579710145, 0.02181159420289855, 0.029057971014492753, 0.058043478260869565], [0.700218818380744, 0.7196573208722741, 0.9096884735202492, 0.7757320872274143, 0.8442679127725856, 0.7788473520249221, 0.9657632398753894, 0.9938006230529595, 0.9906853582554517, 0.9969158878504673, 0.9969158878504673, 0.18071651090342677, 0.9096884735202492, 0.9283800623052959, 0.9782242990654205, 0.9969158878504673, 0.9969158878504673, 0.9938006230529595, 0.9969158878504673, 0.9938006230529595, 0.9969158878504673, 0.24925233644859815, 0.8660747663551401, 0.9252647975077881, 0.9688785046728972, 0.9906853582554517, 0.9906853582554517, 0.9906853582554517, 0.9969158878504673, 0.9969158878504673, 0.9969158878504673, 0.19629283489096572, 0.9190342679127725, 0.9096884735202492, 0.9844548286604361, 0.9906853582554517, 0.9875700934579439, 0.9969158878504673, 0.9969158878504673, 0.9969158878504673, 0.9938006230529595, 0.9065732087227414, 0.20252336448598132, 0.9252647975077881, 0.9813395638629283, 0.9813395638629283, 0.9938006230529595, 0.9938006230529595, 0.9938006230529595, 0.9969158878504673, 0.9969158878504673, 0.10595015576323986, 0.9657632398753894, 0.971993769470405, 0.9813395638629283, 0.971993769470405, 0.9969158878504673, 0.9969158878504673, 0.9906853582554517, 0.9969158878504673, 0.9938006230529595, 0.5919314641744547, 0.632429906542056, 0.8006542056074766, 0.9782242990654205, 0.9906853582554517, 0.9938006230529595, 0.9938006230529595, 0.9969158878504673, 0.9969158878504673, 0.9969158878504673, 0.1215264797507788, 0.9283800623052959, 0.971993769470405, 0.9938006230529595, 0.9906853582554517, 0.9844548286604361, 0.9938006230529595, 0.9938006230529595, 0.9969158878504673, 0.9969158878504673, 0.024953271028037384, 0.9813395638629283, 0.9906853582554517, 0.9969158878504673, 0.9969158878504673, 0.9969158878504673, 0.9969158878504673, 0.9938006230529595, 0.9969158878504673], [0, 0.2772897196261682, 0.08725856697819315, 0.22121495327102805, 0.15267912772585668, 0.21809968847352026, 0.031183800623052958, 0.003146417445482866, 0.006261682242990654, 3.115264797507788e-05, 3.115264797507788e-05, 0.8162305295950155, 0.08725856697819315, 0.06856697819314642, 0.018722741433021807, 3.115264797507788e-05, 3.115264797507788e-05, 0.003146417445482866, 3.115264797507788e-05, 0.003146417445482866, 3.115264797507788e-05, 0.7476947040498442, 0.1308722741433022, 0.0716822429906542, 0.02806853582554517, 0.006261682242990654, 0.006261682242990654, 0.006261682242990654, 3.115264797507788e-05, 3.115264797507788e-05, 3.115264797507788e-05, 0.8006542056074766, 0.07791277258566978, 0.08725856697819315, 0.01249221183800623, 0.006261682242990654, 0.009376947040498441, 3.115264797507788e-05, 3.115264797507788e-05, 3.115264797507788e-05, 0.003146417445482866, 0.09037383177570094, 0.794423676012461, 0.0716822429906542, 0.015607476635514018, 0.015607476635514018, 0.003146417445482866, 0.003146417445482866, 0.003146417445482866, 3.115264797507788e-05, 3.115264797507788e-05, 0.8909968847352024, 0.031183800623052958, 0.024953271028037384, 0.015607476635514018, 0.024953271028037384, 3.115264797507788e-05, 3.115264797507788e-05, 0.006261682242990654, 3.115264797507788e-05, 0.003146417445482866, 0.4050155763239875, 0.3645171339563863, 0.19629283489096572, 0.018722741433021807, 0.006261682242990654, 0.003146417445482866, 0.003146417445482866, 3.115264797507788e-05, 3.115264797507788e-05, 3.115264797507788e-05, 0.8754205607476635, 0.06856697819314642, 0.024953271028037384, 0.003146417445482866, 0.006261682242990654, 0.01249221183800623, 0.003146417445482866, 0.003146417445482866, 3.115264797507788e-05, 3.115264797507788e-05, 0.971993769470405, 0.015607476635514018, 0.006261682242990654, 3.115264797507788e-05, 3.115264797507788e-05, 3.115264797507788e-05, 3.115264797507788e-05, 0.003146417445482866, 3.115264797507788e-05]]\n",
      "Naive Bayes Breast Cancer Class 3 model:\n",
      "[[0.7008747947081384, 0.7227276626484265, 0.912736240913811, 0.7786669827080229, 0.8471350851054225, 0.7813984830014898, 0.9686078378256354, 0.9966226466206148, 0.9932139148494289, 0.9998733577136666, 0.9991284030881755, 0.18374170391439792, 0.9127136665312203, 0.9312698090207232, 0.9808205788071697, 0.9997604858007133, 0.9996701882703508, 0.9966677953857962, 0.9995798907399882, 0.9968258160639306, 0.9990606799404037, 0.2523226782247505, 0.8690773849835206, 0.9280642466928529, 0.9715425075624181, 0.9934848074405165, 0.9934170842927444, 0.9934622330579259, 0.99964761388776, 0.9999185064788476, 0.9991735518533568, 0.19904713531084922, 0.9218111427152468, 0.9125330714704952, 0.9873220009932728, 0.9934396586753352, 0.9904372657907806, 0.9998282089484851, 0.9996701882703508, 0.9999636552440291, 0.996058287055849, 0.9096661248814844, 0.20534538805363672, 0.9277256309539933, 0.9837778229265429, 0.9840035667524493, 0.9963969027947086, 0.9967806672987494, 0.996735518533568, 0.9999862296266196, 0.9996927626529415, 0.10888505124384848, 0.9687432841211793, 0.9749060905684228, 0.9842293105783556, 0.9748835161858322, 0.9999636552440291, 0.9999636552440291, 0.993642828118651, 0.9999410808614384, 0.9949521423089078, 0.5950018059506071, 0.6354550995530271, 0.8033407828795883, 0.9809334507201227, 0.9934396586753352, 0.9967806672987494, 0.996058287055849, 0.99964761388776, 0.9998507833310758, 0.999602465122579, 0.12410018510993724, 0.9313826809336764, 0.9745900492121541, 0.9966903697683868, 0.9935525305882884, 0.9872994266106822, 0.996735518533568, 0.9966677953857962, 0.9998959320962572, 0.9991961262359473, 0.026262810962120187, 0.9840712899002211, 0.9933945099101539, 0.9998507833310758, 0.9999636552440291, 0.9999862296266196, 0.9999410808614384, 0.9968032416813398, 0.9998282089484851], [0, 0.2773125197525848, 0.08730394148720033, 0.2213731996929884, 0.15290509729558896, 0.21864169939952147, 0.03143234457537586, 0.003417535780396406, 0.006826267551582464, 0.00016682468734480113, 0.0009117793128357939, 0.8162984784866134, 0.08732651586979097, 0.06877037338028806, 0.01921960359384171, 0.0002796966002979818, 0.0003699941306605264, 0.0033723870152151335, 0.00046029166102307107, 0.0032143663370806804, 0.0009795024606077025, 0.7477175041762608, 0.13096279741749065, 0.07197593570815838, 0.028497674838593164, 0.006555374960494829, 0.006623098108266739, 0.006577949343085467, 0.0003925685132511626, 0.00012167592216352882, 0.0008666305476545217, 0.8009930470901621, 0.0782290396857646, 0.08750711093051605, 0.012718181407738498, 0.006600523725676101, 0.00960291661023071, 0.00021197345252607343, 0.0003699941306605264, 7.652715698225653e-05, 0.00398189534516231, 0.09037405751952685, 0.7946947943473746, 0.07231455144701793, 0.016262359474468375, 0.01603661564856201, 0.003643279606302768, 0.003259515102261953, 0.0033046638674432255, 5.3952774391620396e-05, 0.0003474197480698903, 0.8911551311571628, 0.03129689827983205, 0.02513409183258838, 0.015810871822655653, 0.025156666215179015, 7.652715698225653e-05, 7.652715698225653e-05, 0.0063973542823603765, 9.910153957289269e-05, 0.0050880400921034805, 0.40503837645040414, 0.36458508284798413, 0.19669939952142307, 0.019106731680888528, 0.006600523725676101, 0.003259515102261953, 0.00398189534516231, 0.0003925685132511626, 0.00018939906993543728, 0.00043771727843243494, 0.8759399972910741, 0.06865750146733487, 0.025450133188857287, 0.003349812632624498, 0.006487651812722922, 0.012740755790329133, 0.0033046638674432255, 0.0033723870152151335, 0.00014425030475416497, 0.0008440561650638854, 0.9737773714388911, 0.015968892500790102, 0.006645672490857374, 0.00018939906993543728, 7.652715698225653e-05, 5.3952774391620396e-05, 9.910153957289269e-05, 0.0032369407196713167, 0.00021197345252607343], [0.3013133890993014, 0.9907946182671903, 0.9849252787936249, 0.9477226962842566, 0.926480202266468, 0.8245568648697459, 0.9201142263759087, 0.9130710190076302, 0.8188455460743149, 0.9565718542597859, 0.7174414194771773, 0.9723964964558219, 0.9776789019820307, 0.9343360874080092, 0.8404943789787349, 0.920339970201815, 0.8913544629554382, 0.9275637726308186, 0.8623689557090614, 0.9782884103119778, 0.6957022890423947, 0.9873858864960042, 0.9701164838141677, 0.905328005779042, 0.8621657862657457, 0.9058020678134453, 0.8840629373786627, 0.8985556910018511, 0.884108086143844, 0.9710646078829743, 0.7319341731003657, 0.8855528466296447, 0.8980364802022665, 0.9197078874892772, 0.9274960494830466, 0.8913093141902569, 0.9275186238656373, 0.9420791006365975, 0.8913544629554382, 0.9855573615061627, 0.7319115987177751, 0.9993954580342226, 0.9073371258296086, 0.796632353605129, 0.7897923156801662, 0.8622560837961082, 0.8406072508916882, 0.9637956566887894, 0.9493029030656011, 0.9928037383177569, 0.8986008397670324, 0.9428692040272699, 0.9635924872454739, 0.9418985055758724, 0.9347198519120503, 0.9346521287642782, 0.9855573615061627, 0.9855573615061627, 0.9565267054946047, 0.9783109846945685, 0.37683913494965915, 0.9898690685809742, 0.9756697819314641, 0.8681931464174455, 0.876726263036706, 0.8913093141902569, 0.9637956566887894, 0.7319115987177751, 0.884108086143844, 0.9493254774481917, 0.8696153325206556, 0.8270400469547158, 0.9705679714659802, 0.8404492302135537, 0.9348101494424126, 0.9275411982482279, 0.9202496726714524, 0.9493029030656011, 0.9275637726308186, 0.9638182310713801, 0.7391805499119599, 0.4205431396451307, 0.8839952142308909, 0.8768165605670685, 0.9493254774481917, 0.9855573615061627, 0.9928037383177569, 0.9783109846945685, 0.9710420335003837, 0.9420791006365975], [0, 0.009328186374102668, 0.015197525847668064, 0.052400108357036436, 0.07364260237482505, 0.17556593977154727, 0.08000857826538443, 0.0870517856336629, 0.18127725856697818, 0.04355095038150707, 0.2826813851641158, 0.027726308185471126, 0.022443902659262268, 0.06578671723328366, 0.15962842566255817, 0.07978283443947808, 0.10876834168585488, 0.0725590320104745, 0.13775384893223172, 0.02183439432931509, 0.3044205155988984, 0.012736918145288727, 0.030006320827125375, 0.09479479886225112, 0.13795701837554744, 0.09432073682784775, 0.11605986726263037, 0.10156711363944196, 0.1160147184974491, 0.02905819675831866, 0.26818863154092737, 0.11456995801164838, 0.10208632443902659, 0.08041491715201589, 0.07262675515824642, 0.10881349045103615, 0.0726041807756558, 0.05804370400469546, 0.10876834168585488, 0.014565443135130252, 0.26821120592351794, 0.0007273466070702966, 0.0927856788116845, 0.20349045103616417, 0.21033048896112694, 0.13786672084518492, 0.15951555374960497, 0.0363271479525035, 0.050819901575691905, 0.007319066323536051, 0.10152196487426068, 0.0572536006140232, 0.036530317395819224, 0.05822429906542056, 0.06540295272924286, 0.06547067587701476, 0.014565443135130252, 0.014565443135130252, 0.043596099146688334, 0.021811819946724455, 0.623283669691634, 0.010253736060318751, 0.024453022709828885, 0.13192965822384758, 0.12339654160458714, 0.10881349045103615, 0.0363271479525035, 0.26821120592351794, 0.1160147184974491, 0.05079732719310127, 0.1305074721206375, 0.17308275768657727, 0.029554833175312656, 0.1596735744277394, 0.0653126551988803, 0.07258160639306514, 0.07987313196984062, 0.050819901575691905, 0.0725590320104745, 0.03630457356991286, 0.26094225472933313, 0.5795796649961623, 0.1161275904104023, 0.12330624407422457, 0.05079732719310127, 0.014565443135130252, 0.007319066323536051, 0.021811819946724455, 0.029080771140909293, 0.05804370400469546]]\n"
     ]
    }
   ],
   "source": [
    "# Run Breast Cancer Through\n",
    "naive_bayes_breast_cancer=[[0,0,0,0,0,0,0,0,0,0,0,0,0,0,0,0,0,0,0,0,0,0,0,0,0,0,0,0,0,0,0,0,0,0,0,0,0,0,0,0,0,0,0,0,0,0,0,0,0,0,0,0,0,0,0,0,0,0,0,0,0,0,0,0,0,0,0,0,0,0,0,0,0,0,0,0,0,0,0,0,0,0,0,0,0,0,0,0,0,0],[0,0,0,0,0,0,0,0,0,0,0,0,0,0,0,0,0,0,0,0,0,0,0,0,0,0,0,0,0,0,0,0,0,0,0,0,0,0,0,0,0,0,0,0,0,0,0,0,0,0,0,0,0,0,0,0,0,0,0,0,0,0,0,0,0,0,0,0,0,0,0,0,0,0,0,0,0,0,0,0,0,0,0,0,0,0,0,0,0,0],[0,0,0,0,0,0,0,0,0,0,0,0,0,0,0,0,0,0,0,0,0,0,0,0,0,0,0,0,0,0,0,0,0,0,0,0,0,0,0,0,0,0,0,0,0,0,0,0,0,0,0,0,0,0,0,0,0,0,0,0,0,0,0,0,0,0,0,0,0,0,0,0,0,0,0,0,0,0,0,0,0,0,0,0,0,0,0,0,0,0],[0,0,0,0,0,0,0,0,0,0,0,0,0,0,0,0,0,0,0,0,0,0,0,0,0,0,0,0,0,0,0,0,0,0,0,0,0,0,0,0,0,0,0,0,0,0,0,0,0,0,0,0,0,0,0,0,0,0,0,0,0,0,0,0,0,0,0,0,0,0,0,0,0,0,0,0,0,0,0,0,0,0,0,0,0,0,0,0,0,0]]\n",
    "print(\"Naive Bayes Breast Cancer Class 2 model:\")\n",
    "naive_bayes_breast_cancer_results_class1 = naive_bayes_n_fold_cross_val(breast_cancer, 3, 0, attributes_breast_cancer, naive_bayes_breast_cancer)\n",
    "print(\"Naive Bayes Breast Cancer Class 3 model:\")\n",
    "naive_bayes_breast_cancer_results_class2 = naive_bayes_n_fold_cross_val(breast_cancer, 3, 1, attributes_breast_cancer, naive_bayes_breast_cancer)"
   ]
  },
  {
   "cell_type": "markdown",
   "metadata": {},
   "source": [
    "Results- strict percentage of total correct guesses divided by the total population count"
   ]
  },
  {
   "cell_type": "code",
   "execution_count": 61,
   "metadata": {},
   "outputs": [
    {
     "name": "stdout",
     "output_type": "stream",
     "text": [
      "Winnow Results:\n",
      "Iris:\n",
      "[0.9795918367346939]\n",
      "[0.673469387755102]\n",
      "[0.5510204081632653]\n",
      "Glass:\n",
      "[0.6571428571428571]\n",
      "[0.6285714285714286]\n",
      "[0.8857142857142857]\n",
      "[0.9142857142857143]\n",
      "[0.9571428571428572]\n",
      "[0.14285714285714285]\n",
      "Breast Cancer:\n",
      "[0.9778761061946902]\n",
      "[0.9646017699115044]\n",
      "Naive-Bayes Results:\n",
      "Iris:\n",
      "[0.673469387755102]\n",
      "[0.6326530612244898]\n",
      "[0.7755102040816326]\n",
      "Glass:\n",
      "[0.7]\n",
      "[0.6]\n",
      "[0.9714285714285714]\n",
      "[0.9285714285714286]\n",
      "[0.9857142857142858]\n",
      "[0.8571428571428571]\n",
      "Breast Cancer:\n",
      "[0.37610619469026546]\n",
      "[0.6946902654867256]\n"
     ]
    }
   ],
   "source": [
    "print(\"Winnow Results:\")\n",
    "print(\"Iris:\")\n",
    "print(winnow_2_iris_results_class1)\n",
    "print(winnow_2_iris_results_class2)\n",
    "print(winnow_2_iris_results_class3)\n",
    "print(\"Glass:\")\n",
    "print(winnow_2_glass_results_class1)\n",
    "print(winnow_2_glass_results_class2)\n",
    "print(winnow_2_glass_results_class3)\n",
    "print(winnow_2_glass_results_class5)\n",
    "print(winnow_2_glass_results_class6)\n",
    "print(winnow_2_glass_results_class7)\n",
    "print(\"Breast Cancer:\")\n",
    "print(winnow_2_breast_cancer_results_class1)\n",
    "print(winnow_2_breast_cancer_results_class2)\n",
    "print(\"Naive-Bayes Results:\")\n",
    "print(\"Iris:\")\n",
    "print(naive_bayes_iris_results_class1)\n",
    "print(naive_bayes_iris_results_class2)\n",
    "print(naive_bayes_iris_results_class3)\n",
    "print(\"Glass:\")\n",
    "print(naive_bayes_glass_results_class1)\n",
    "print(naive_bayes_glass_results_class2)\n",
    "print(naive_bayes_glass_results_class3)\n",
    "print(naive_bayes_glass_results_class5)\n",
    "print(naive_bayes_glass_results_class6)\n",
    "print(naive_bayes_glass_results_class7)\n",
    "print(\"Breast Cancer:\")\n",
    "print(naive_bayes_breast_cancer_results_class1)\n",
    "print(naive_bayes_breast_cancer_results_class2)"
   ]
  }
 ],
 "metadata": {
  "kernelspec": {
   "display_name": "Python 3",
   "language": "python",
   "name": "python3"
  },
  "language_info": {
   "codemirror_mode": {
    "name": "ipython",
    "version": 3
   },
   "file_extension": ".py",
   "mimetype": "text/x-python",
   "name": "python",
   "nbconvert_exporter": "python",
   "pygments_lexer": "ipython3",
   "version": "3.7.4"
  }
 },
 "nbformat": 4,
 "nbformat_minor": 2
}
